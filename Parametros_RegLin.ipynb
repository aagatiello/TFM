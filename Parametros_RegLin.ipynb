{
 "cells": [
  {
   "cell_type": "markdown",
   "id": "bf4be163",
   "metadata": {
    "ExecuteTime": {
     "end_time": "2023-09-11T23:57:33.105222Z",
     "start_time": "2023-09-11T23:57:33.101646Z"
    }
   },
   "source": [
    "**<center><font size = \"6\"> Entrenamiento de hiperparámetros en Regresión Lineal <center>**\n",
    "***"
   ]
  },
  {
   "cell_type": "markdown",
   "id": "fec4d3bb",
   "metadata": {
    "toc": true
   },
   "source": [
    "<h1>Table of Contents<span class=\"tocSkip\"></span></h1>\n",
    "<div class=\"toc\"><ul class=\"toc-item\"><li><span><a href=\"#Parámetros-por-defecto\" data-toc-modified-id=\"Parámetros-por-defecto-1\">Parámetros por defecto</a></span></li><li><span><a href=\"#Positive-=-true\" data-toc-modified-id=\"Positive-=-true-2\">Positive = true</a></span></li><li><span><a href=\"#Copy_X-=-false\" data-toc-modified-id=\"Copy_X-=-false-3\">Copy_X = false</a></span></li><li><span><a href=\"#Copy_x-=-False,-Positive-=-True\" data-toc-modified-id=\"Copy_x-=-False,-Positive-=-True-4\">Copy_x = False, Positive = True</a></span></li><li><span><a href=\"#Fit_intercept-=-false\" data-toc-modified-id=\"Fit_intercept-=-false-5\">Fit_intercept = false</a></span></li><li><span><a href=\"#Fit_intercept-=-false,-positive-=-true\" data-toc-modified-id=\"Fit_intercept-=-false,-positive-=-true-6\">Fit_intercept = false, positive = true</a></span></li><li><span><a href=\"#Fit_intercept-=-false,-copy_x-=-false,-positive-=-true\" data-toc-modified-id=\"Fit_intercept-=-false,-copy_x-=-false,-positive-=-true-7\">Fit_intercept = false, copy_x = false, positive = true</a></span></li><li><span><a href=\"#Grid-Search\" data-toc-modified-id=\"Grid-Search-8\">Grid Search</a></span></li></ul></div>"
   ]
  },
  {
   "cell_type": "markdown",
   "id": "3db9212f",
   "metadata": {
    "ExecuteTime": {
     "end_time": "2023-09-11T23:57:40.486197Z",
     "start_time": "2023-09-11T23:57:40.482756Z"
    }
   },
   "source": [
    "***"
   ]
  },
  {
   "cell_type": "code",
   "execution_count": 1,
   "id": "6c7af765",
   "metadata": {
    "ExecuteTime": {
     "end_time": "2023-09-12T10:36:45.097231Z",
     "start_time": "2023-09-12T10:36:38.403447Z"
    }
   },
   "outputs": [],
   "source": [
    "from sklearn.linear_model import LinearRegression\n",
    "from sklearn.linear_model import LinearRegression\n",
    "from sklearn.metrics import mean_squared_error, mean_absolute_error, r2_score\n",
    "from sklearn.model_selection import GridSearchCV\n",
    "import pickle\n",
    "import numpy as np\n",
    "\n",
    "X_train = pickle.load(open(\"saved_feats/X_train_r\", \"rb\"))\n",
    "X_test = pickle.load(open(\"saved_feats/X_test_r\", \"rb\"))\n",
    "y_train = pickle.load(open(\"saved_feats/y_train_r\", \"rb\"))\n",
    "y_test = pickle.load(open(\"saved_feats/y_test_r\", \"rb\"))"
   ]
  },
  {
   "cell_type": "markdown",
   "id": "e9e43fec",
   "metadata": {
    "ExecuteTime": {
     "end_time": "2023-09-11T23:57:55.949387Z",
     "start_time": "2023-09-11T23:57:55.946401Z"
    }
   },
   "source": [
    "# Parámetros por defecto"
   ]
  },
  {
   "cell_type": "code",
   "execution_count": 2,
   "id": "571439ee",
   "metadata": {
    "ExecuteTime": {
     "end_time": "2023-09-12T10:47:03.227892Z",
     "start_time": "2023-09-12T10:36:45.098236Z"
    },
    "scrolled": true
   },
   "outputs": [],
   "source": [
    "clf_linreg_1 = LinearRegression(fit_intercept=True, copy_X=True, n_jobs=None, positive=False)\n",
    "clf_linreg_1.fit(X_train, y_train)\n",
    "\n",
    "# Calcular las predicciones del modelo para los datos de entrenamiento y prueba\n",
    "y_train_pred_1 = clf_linreg_1.predict(X_train)\n",
    "y_test_pred_1 = clf_linreg_1.predict(X_test)"
   ]
  },
  {
   "cell_type": "code",
   "execution_count": 3,
   "id": "1e83275d",
   "metadata": {
    "ExecuteTime": {
     "end_time": "2023-09-12T10:47:03.260765Z",
     "start_time": "2023-09-12T10:47:03.236020Z"
    }
   },
   "outputs": [
    {
     "name": "stdout",
     "output_type": "stream",
     "text": [
      "Train MSE: 269.5721426266875, Test MSE: 8.962714261969925e+26\n",
      "Train RMSE: 16.418652278024755, Test RMSE: 29937792607288.074\n",
      "Train MAE: 5.6290204448758745, Test MAE: 7306780583584.726\n",
      "Train R^2: 0.9476488067936297, Test R^2: -1.7447875536978915e+23\n",
      "Train RSE: nan, Test RSE: nan\n"
     ]
    },
    {
     "name": "stderr",
     "output_type": "stream",
     "text": [
      "C:\\Users\\Agus\\AppData\\Local\\Temp\\ipykernel_4604\\3178909825.py:24: RuntimeWarning: invalid value encountered in sqrt\n",
      "  rse_train_1 = np.sqrt((1 / (n_train - p_train - 1)) * mse_train_1)\n",
      "C:\\Users\\Agus\\AppData\\Local\\Temp\\ipykernel_4604\\3178909825.py:28: RuntimeWarning: invalid value encountered in sqrt\n",
      "  rse_test_1 = np.sqrt((1 / (n_test - p_test - 1)) * mse_test_1)\n"
     ]
    }
   ],
   "source": [
    "# Calcular MSE para los datos de entrenamiento y prueba\n",
    "mse_train_1 = mean_squared_error(y_train, y_train_pred_1)\n",
    "mse_test_1 = mean_squared_error(y_test, y_test_pred_1)\n",
    "\n",
    "# Calcular RMSE para los datos de entrenamiento y prueba\n",
    "rmse_train_1 = np.sqrt(mse_train_1)\n",
    "rmse_test_1 = np.sqrt(mse_test_1)\n",
    "\n",
    "# Calcular MAE para los datos de entrenamiento y prueba\n",
    "mae_train_1 = mean_absolute_error(y_train, y_train_pred_1)\n",
    "mae_test_1 = mean_absolute_error(y_test, y_test_pred_1)\n",
    "\n",
    "print(f'Train MSE: {mse_train_1}, Test MSE: {mse_test_1}')\n",
    "print(f'Train RMSE: {rmse_train_1}, Test RMSE: {rmse_test_1}')\n",
    "print(f'Train MAE: {mae_train_1}, Test MAE: {mae_test_1}')\n",
    "\n",
    "# Calcular R^2 para los datos de entrenamiento y prueba\n",
    "r2_train_1 = r2_score(y_train, y_train_pred_1)\n",
    "r2_test_1 = r2_score(y_test, y_test_pred_1)\n",
    "\n",
    "# Calcular RSE para los datos de entrenamiento y prueba\n",
    "n_train = len(y_train)\n",
    "p_train = X_train.shape[1] # número de características\n",
    "rse_train_1 = np.sqrt((1 / (n_train - p_train - 1)) * mse_train_1)\n",
    "\n",
    "n_test = len(y_test)\n",
    "p_test = X_test.shape[1] # número de características\n",
    "rse_test_1 = np.sqrt((1 / (n_test - p_test - 1)) * mse_test_1)\n",
    "\n",
    "print(f'Train R^2: {r2_train_1}, Test R^2: {r2_test_1}')\n",
    "print(f'Train RSE: {rse_train_1}, Test RSE: {rse_test_1}')"
   ]
  },
  {
   "cell_type": "markdown",
   "id": "1e117731",
   "metadata": {},
   "source": [
    "# Positive = true"
   ]
  },
  {
   "cell_type": "code",
   "execution_count": 4,
   "id": "afc20d3a",
   "metadata": {
    "ExecuteTime": {
     "end_time": "2023-09-12T11:16:30.602941Z",
     "start_time": "2023-09-12T10:47:03.264781Z"
    }
   },
   "outputs": [],
   "source": [
    "clf_linreg_2 = LinearRegression(fit_intercept=True, copy_X=True, n_jobs=None, positive=True)\n",
    "clf_linreg_2.fit(X_train, y_train)\n",
    "\n",
    "# Calcular las predicciones del modelo para los datos de entrenamiento y prueba\n",
    "y_train_pred_2 = clf_linreg_2.predict(X_train)\n",
    "y_test_pred_2 = clf_linreg_2.predict(X_test)"
   ]
  },
  {
   "cell_type": "code",
   "execution_count": 5,
   "id": "288e19b8",
   "metadata": {
    "ExecuteTime": {
     "end_time": "2023-09-12T11:16:30.611549Z",
     "start_time": "2023-09-12T11:16:30.603946Z"
    }
   },
   "outputs": [
    {
     "name": "stdout",
     "output_type": "stream",
     "text": [
      "Train MSE: 1193.5392742044528, Test MSE: 4785.813459137869\n",
      "Train RMSE: 34.5476377514361, Test RMSE: 69.17957400228676\n",
      "Train MAE: 18.5159547780384, Test MAE: 45.92567955555143\n",
      "Train R^2: 0.7682134194785956, Test R^2: 0.06833716731829609\n",
      "Train RSE: nan, Test RSE: nan\n"
     ]
    },
    {
     "name": "stderr",
     "output_type": "stream",
     "text": [
      "C:\\Users\\Agus\\AppData\\Local\\Temp\\ipykernel_4604\\3512623505.py:24: RuntimeWarning: invalid value encountered in sqrt\n",
      "  rse_train_2 = np.sqrt((1 / (n_train - p_train - 1)) * mse_train_2)\n",
      "C:\\Users\\Agus\\AppData\\Local\\Temp\\ipykernel_4604\\3512623505.py:28: RuntimeWarning: invalid value encountered in sqrt\n",
      "  rse_test_2 = np.sqrt((1 / (n_test - p_test - 1)) * mse_test_2)\n"
     ]
    }
   ],
   "source": [
    "# Calcular MSE para los datos de entrenamiento y prueba\n",
    "mse_train_2 = mean_squared_error(y_train, y_train_pred_2)\n",
    "mse_test_2 = mean_squared_error(y_test, y_test_pred_2)\n",
    "\n",
    "# Calcular RMSE para los datos de entrenamiento y prueba\n",
    "rmse_train_2 = np.sqrt(mse_train_2)\n",
    "rmse_test_2 = np.sqrt(mse_test_2)\n",
    "\n",
    "# Calcular MAE para los datos de entrenamiento y prueba\n",
    "mae_train_2 = mean_absolute_error(y_train, y_train_pred_2)\n",
    "mae_test_2 = mean_absolute_error(y_test, y_test_pred_2)\n",
    "\n",
    "print(f'Train MSE: {mse_train_2}, Test MSE: {mse_test_2}')\n",
    "print(f'Train RMSE: {rmse_train_2}, Test RMSE: {rmse_test_2}')\n",
    "print(f'Train MAE: {mae_train_2}, Test MAE: {mae_test_2}')\n",
    "\n",
    "# Calcular R^2 para los datos de entrenamiento y prueba\n",
    "r2_train_2 = r2_score(y_train, y_train_pred_2)\n",
    "r2_test_2 = r2_score(y_test, y_test_pred_2)\n",
    "\n",
    "# Calcular RSE para los datos de entrenamiento y prueba\n",
    "n_train = len(y_train)\n",
    "p_train = X_train.shape[1] # número de características\n",
    "rse_train_2 = np.sqrt((1 / (n_train - p_train - 1)) * mse_train_2)\n",
    "\n",
    "n_test = len(y_test)\n",
    "p_test = X_test.shape[1] # número de características\n",
    "rse_test_2 = np.sqrt((1 / (n_test - p_test - 1)) * mse_test_2)\n",
    "\n",
    "print(f'Train R^2: {r2_train_2}, Test R^2: {r2_test_2}')\n",
    "print(f'Train RSE: {rse_train_2}, Test RSE: {rse_test_2}')"
   ]
  },
  {
   "cell_type": "markdown",
   "id": "2bd98ebd",
   "metadata": {},
   "source": [
    "# Copy_X = false"
   ]
  },
  {
   "cell_type": "code",
   "execution_count": 6,
   "id": "e470d1e2",
   "metadata": {
    "ExecuteTime": {
     "end_time": "2023-09-12T11:23:22.505645Z",
     "start_time": "2023-09-12T11:16:30.612527Z"
    }
   },
   "outputs": [],
   "source": [
    "clf_linreg_3 = LinearRegression(fit_intercept=True, copy_X=False, n_jobs=None, positive=False)\n",
    "clf_linreg_3.fit(X_train, y_train)\n",
    "\n",
    "# Calcular las predicciones del modelo para los datos de entrenamiento y prueba\n",
    "y_train_pred_3 = clf_linreg_3.predict(X_train)\n",
    "y_test_pred_3 = clf_linreg_3.predict(X_test)"
   ]
  },
  {
   "cell_type": "code",
   "execution_count": 7,
   "id": "d04ac268",
   "metadata": {
    "ExecuteTime": {
     "end_time": "2023-09-12T11:23:22.513156Z",
     "start_time": "2023-09-12T11:23:22.506652Z"
    }
   },
   "outputs": [
    {
     "name": "stdout",
     "output_type": "stream",
     "text": [
      "Train MSE: 409.215183522396, Test MSE: 8.962714261969925e+26\n",
      "Train RMSE: 20.22906778678632, Test RMSE: 29937792607288.074\n",
      "Train MAE: 14.8412498649212, Test MAE: 7306780583584.726\n",
      "Train R^2: 0.920529981596695, Test R^2: -1.7447875536978915e+23\n",
      "Train RSE: nan, Test RSE: nan\n"
     ]
    },
    {
     "name": "stderr",
     "output_type": "stream",
     "text": [
      "C:\\Users\\Agus\\AppData\\Local\\Temp\\ipykernel_4604\\2241549011.py:24: RuntimeWarning: invalid value encountered in sqrt\n",
      "  rse_train_3 = np.sqrt((1 / (n_train - p_train - 1)) * mse_train_3)\n",
      "C:\\Users\\Agus\\AppData\\Local\\Temp\\ipykernel_4604\\2241549011.py:28: RuntimeWarning: invalid value encountered in sqrt\n",
      "  rse_test_3 = np.sqrt((1 / (n_test - p_test - 1)) * mse_test_3)\n"
     ]
    }
   ],
   "source": [
    "# Calcular MSE para los datos de entrenamiento y prueba\n",
    "mse_train_3 = mean_squared_error(y_train, y_train_pred_3)\n",
    "mse_test_3 = mean_squared_error(y_test, y_test_pred_3)\n",
    "\n",
    "# Calcular RMSE para los datos de entrenamiento y prueba\n",
    "rmse_train_3 = np.sqrt(mse_train_3)\n",
    "rmse_test_3 = np.sqrt(mse_test_3)\n",
    "\n",
    "# Calcular MAE para los datos de entrenamiento y prueba\n",
    "mae_train_3 = mean_absolute_error(y_train, y_train_pred_3)\n",
    "mae_test_3 = mean_absolute_error(y_test, y_test_pred_3)\n",
    "\n",
    "print(f'Train MSE: {mse_train_3}, Test MSE: {mse_test_3}')\n",
    "print(f'Train RMSE: {rmse_train_3}, Test RMSE: {rmse_test_3}')\n",
    "print(f'Train MAE: {mae_train_3}, Test MAE: {mae_test_3}')\n",
    "\n",
    "# Calcular R^2 para los datos de entrenamiento y prueba\n",
    "r2_train_3 = r2_score(y_train, y_train_pred_3)\n",
    "r2_test_3 = r2_score(y_test, y_test_pred_3)\n",
    "\n",
    "# Calcular RSE para los datos de entrenamiento y prueba\n",
    "n_train = len(y_train)\n",
    "p_train = X_train.shape[1] # número de características\n",
    "rse_train_3 = np.sqrt((1 / (n_train - p_train - 1)) * mse_train_3)\n",
    "\n",
    "n_test = len(y_test)\n",
    "p_test = X_test.shape[1] # número de características\n",
    "rse_test_3 = np.sqrt((1 / (n_test - p_test - 1)) * mse_test_3)\n",
    "\n",
    "print(f'Train R^2: {r2_train_3}, Test R^2: {r2_test_3}')\n",
    "print(f'Train RSE: {rse_train_3}, Test RSE: {rse_test_3}')"
   ]
  },
  {
   "cell_type": "markdown",
   "id": "6bc3f2ee",
   "metadata": {},
   "source": [
    "# Copy_x = False, Positive = True"
   ]
  },
  {
   "cell_type": "code",
   "execution_count": 8,
   "id": "a7cafcaa",
   "metadata": {
    "ExecuteTime": {
     "end_time": "2023-09-12T11:42:27.455889Z",
     "start_time": "2023-09-12T11:23:22.514183Z"
    }
   },
   "outputs": [],
   "source": [
    "clf_linreg_4 = LinearRegression(fit_intercept=True, copy_X=False, n_jobs=None, positive=True)\n",
    "clf_linreg_4.fit(X_train, y_train)\n",
    "\n",
    "# Calcular las predicciones del modelo para los datos de entrenamiento y prueba\n",
    "y_train_pred_4 = clf_linreg_4.predict(X_train)\n",
    "y_test_pred_4 = clf_linreg_4.predict(X_test)"
   ]
  },
  {
   "cell_type": "code",
   "execution_count": 9,
   "id": "972a28b8",
   "metadata": {
    "ExecuteTime": {
     "end_time": "2023-09-12T11:42:27.463399Z",
     "start_time": "2023-09-12T11:42:27.456896Z"
    }
   },
   "outputs": [
    {
     "name": "stdout",
     "output_type": "stream",
     "text": [
      "Train MSE: 1193.5392742044528, Test MSE: 12534.679067415896\n",
      "Train RMSE: 34.5476377514361, Test RMSE: 111.95838096103344\n",
      "Train MAE: 18.515954778038417, Test MAE: 97.50503297825006\n",
      "Train R^2: 0.7682134194785956, Test R^2: -1.4401483063254368\n",
      "Train RSE: nan, Test RSE: nan\n"
     ]
    },
    {
     "name": "stderr",
     "output_type": "stream",
     "text": [
      "C:\\Users\\Agus\\AppData\\Local\\Temp\\ipykernel_4604\\787070149.py:24: RuntimeWarning: invalid value encountered in sqrt\n",
      "  rse_train_4 = np.sqrt((1 / (n_train - p_train - 1)) * mse_train_4)\n",
      "C:\\Users\\Agus\\AppData\\Local\\Temp\\ipykernel_4604\\787070149.py:28: RuntimeWarning: invalid value encountered in sqrt\n",
      "  rse_test_4 = np.sqrt((1 / (n_test - p_test - 1)) * mse_test_4)\n"
     ]
    }
   ],
   "source": [
    "# Calcular MSE para los datos de entrenamiento y prueba\n",
    "mse_train_4 = mean_squared_error(y_train, y_train_pred_4)\n",
    "mse_test_4 = mean_squared_error(y_test, y_test_pred_4)\n",
    "\n",
    "# Calcular RMSE para los datos de entrenamiento y prueba\n",
    "rmse_train_4 = np.sqrt(mse_train_4)\n",
    "rmse_test_4 = np.sqrt(mse_test_4)\n",
    "\n",
    "# Calcular MAE para los datos de entrenamiento y prueba\n",
    "mae_train_4 = mean_absolute_error(y_train, y_train_pred_4)\n",
    "mae_test_4 = mean_absolute_error(y_test, y_test_pred_4)\n",
    "\n",
    "print(f'Train MSE: {mse_train_4}, Test MSE: {mse_test_4}')\n",
    "print(f'Train RMSE: {rmse_train_4}, Test RMSE: {rmse_test_4}')\n",
    "print(f'Train MAE: {mae_train_4}, Test MAE: {mae_test_4}')\n",
    "\n",
    "# Calcular R^2 para los datos de entrenamiento y prueba\n",
    "r2_train_4 = r2_score(y_train, y_train_pred_4)\n",
    "r2_test_4 = r2_score(y_test, y_test_pred_4)\n",
    "\n",
    "# Calcular RSE para los datos de entrenamiento y prueba\n",
    "n_train = len(y_train)\n",
    "p_train = X_train.shape[1] # número de características\n",
    "rse_train_4 = np.sqrt((1 / (n_train - p_train - 1)) * mse_train_4)\n",
    "\n",
    "n_test = len(y_test)\n",
    "p_test = X_test.shape[1] # número de características\n",
    "rse_test_4 = np.sqrt((1 / (n_test - p_test - 1)) * mse_test_4)\n",
    "\n",
    "print(f'Train R^2: {r2_train_4}, Test R^2: {r2_test_4}')\n",
    "print(f'Train RSE: {rse_train_4}, Test RSE: {rse_test_4}')"
   ]
  },
  {
   "cell_type": "markdown",
   "id": "6e5affca",
   "metadata": {},
   "source": [
    "# Fit_intercept = false"
   ]
  },
  {
   "cell_type": "code",
   "execution_count": 10,
   "id": "5b318f90",
   "metadata": {
    "ExecuteTime": {
     "end_time": "2023-09-12T11:49:24.473529Z",
     "start_time": "2023-09-12T11:42:27.464404Z"
    }
   },
   "outputs": [],
   "source": [
    "clf_linreg_5 = LinearRegression(fit_intercept=False, copy_X=True, n_jobs=None, positive=False)\n",
    "clf_linreg_5.fit(X_train, y_train)\n",
    "\n",
    "# Calcular las predicciones del modelo para los datos de entrenamiento y prueba\n",
    "y_train_pred_5 = clf_linreg_5.predict(X_train)\n",
    "y_test_pred_5 = clf_linreg_5.predict(X_test)\n"
   ]
  },
  {
   "cell_type": "code",
   "execution_count": 11,
   "id": "194c6570",
   "metadata": {
    "ExecuteTime": {
     "end_time": "2023-09-12T11:49:24.480471Z",
     "start_time": "2023-09-12T11:49:24.474536Z"
    }
   },
   "outputs": [
    {
     "name": "stdout",
     "output_type": "stream",
     "text": [
      "Train MSE: 2180.3769615292417, Test MSE: 1.3580886329080874e+31\n",
      "Train RMSE: 46.694506759674006, Test RMSE: 3685225410891561.0\n",
      "Train MAE: 32.98712877707209, Test MAE: 1960469685638015.0\n",
      "Train R^2: 0.5765685042099914, Test R^2: -2.6438153379172926e+27\n",
      "Train RSE: nan, Test RSE: nan\n"
     ]
    },
    {
     "name": "stderr",
     "output_type": "stream",
     "text": [
      "C:\\Users\\Agus\\AppData\\Local\\Temp\\ipykernel_4604\\2039024792.py:24: RuntimeWarning: invalid value encountered in sqrt\n",
      "  rse_train_5 = np.sqrt((1 / (n_train - p_train - 1)) * mse_train_5)\n",
      "C:\\Users\\Agus\\AppData\\Local\\Temp\\ipykernel_4604\\2039024792.py:28: RuntimeWarning: invalid value encountered in sqrt\n",
      "  rse_test_5 = np.sqrt((1 / (n_test - p_test - 1)) * mse_test_5)\n"
     ]
    }
   ],
   "source": [
    "# Calcular MSE para los datos de entrenamiento y prueba\n",
    "mse_train_5 = mean_squared_error(y_train, y_train_pred_5)\n",
    "mse_test_5 = mean_squared_error(y_test, y_test_pred_5)\n",
    "\n",
    "# Calcular RMSE para los datos de entrenamiento y prueba\n",
    "rmse_train_5 = np.sqrt(mse_train_5)\n",
    "rmse_test_5 = np.sqrt(mse_test_5)\n",
    "\n",
    "# Calcular MAE para los datos de entrenamiento y prueba\n",
    "mae_train_5 = mean_absolute_error(y_train, y_train_pred_5)\n",
    "mae_test_5 = mean_absolute_error(y_test, y_test_pred_5)\n",
    "\n",
    "print(f'Train MSE: {mse_train_5}, Test MSE: {mse_test_5}')\n",
    "print(f'Train RMSE: {rmse_train_5}, Test RMSE: {rmse_test_5}')\n",
    "print(f'Train MAE: {mae_train_5}, Test MAE: {mae_test_5}')\n",
    "\n",
    "# Calcular R^2 para los datos de entrenamiento y prueba\n",
    "r2_train_5 = r2_score(y_train, y_train_pred_5)\n",
    "r2_test_5 = r2_score(y_test, y_test_pred_5)\n",
    "\n",
    "# Calcular RSE para los datos de entrenamiento y prueba\n",
    "n_train = len(y_train)\n",
    "p_train = X_train.shape[1] # número de características\n",
    "rse_train_5 = np.sqrt((1 / (n_train - p_train - 1)) * mse_train_5)\n",
    "\n",
    "n_test = len(y_test)\n",
    "p_test = X_test.shape[1] # número de características\n",
    "rse_test_5 = np.sqrt((1 / (n_test - p_test - 1)) * mse_test_5)\n",
    "\n",
    "print(f'Train R^2: {r2_train_5}, Test R^2: {r2_test_5}')\n",
    "print(f'Train RSE: {rse_train_5}, Test RSE: {rse_test_5}')"
   ]
  },
  {
   "cell_type": "markdown",
   "id": "4e12b849",
   "metadata": {},
   "source": [
    "# Fit_intercept = false, positive = true"
   ]
  },
  {
   "cell_type": "code",
   "execution_count": 12,
   "id": "136d8d41",
   "metadata": {
    "ExecuteTime": {
     "end_time": "2023-09-12T12:08:21.808574Z",
     "start_time": "2023-09-12T11:49:24.483987Z"
    }
   },
   "outputs": [],
   "source": [
    "clf_linreg_6 = LinearRegression(fit_intercept=False, copy_X=True, n_jobs=None, positive=True)\n",
    "clf_linreg_6.fit(X_train, y_train)\n",
    "\n",
    "# Calcular las predicciones del modelo para los datos de entrenamiento y prueba\n",
    "y_train_pred_6 = clf_linreg_6.predict(X_train)\n",
    "y_test_pred_6 = clf_linreg_6.predict(X_test)\n"
   ]
  },
  {
   "cell_type": "code",
   "execution_count": 13,
   "id": "4f7843c1",
   "metadata": {
    "ExecuteTime": {
     "end_time": "2023-09-12T12:08:21.815478Z",
     "start_time": "2023-09-12T12:08:21.809580Z"
    }
   },
   "outputs": [
    {
     "name": "stdout",
     "output_type": "stream",
     "text": [
      "Train MSE: 65805.30053097225, Test MSE: 31889.03608847747\n",
      "Train RMSE: 256.5254383701005, Test RMSE: 178.57501529743033\n",
      "Train MAE: 254.1884365126939, Test MAE: 166.64111730660943\n",
      "Train R^2: -11.779458472721041, Test R^2: -5.207895470090475\n",
      "Train RSE: nan, Test RSE: nan\n"
     ]
    },
    {
     "name": "stderr",
     "output_type": "stream",
     "text": [
      "C:\\Users\\Agus\\AppData\\Local\\Temp\\ipykernel_4604\\2252004724.py:24: RuntimeWarning: invalid value encountered in sqrt\n",
      "  rse_train_6 = np.sqrt((1 / (n_train - p_train - 1)) * mse_train_6)\n",
      "C:\\Users\\Agus\\AppData\\Local\\Temp\\ipykernel_4604\\2252004724.py:28: RuntimeWarning: invalid value encountered in sqrt\n",
      "  rse_test_6 = np.sqrt((1 / (n_test - p_test - 1)) * mse_test_6)\n"
     ]
    }
   ],
   "source": [
    "# Calcular MSE para los datos de entrenamiento y prueba\n",
    "mse_train_6 = mean_squared_error(y_train, y_train_pred_6)\n",
    "mse_test_6 = mean_squared_error(y_test, y_test_pred_6)\n",
    "\n",
    "# Calcular RMSE para los datos de entrenamiento y prueba\n",
    "rmse_train_6 = np.sqrt(mse_train_6)\n",
    "rmse_test_6 = np.sqrt(mse_test_6)\n",
    "\n",
    "# Calcular MAE para los datos de entrenamiento y prueba\n",
    "mae_train_6 = mean_absolute_error(y_train, y_train_pred_6)\n",
    "mae_test_6 = mean_absolute_error(y_test, y_test_pred_6)\n",
    "\n",
    "print(f'Train MSE: {mse_train_6}, Test MSE: {mse_test_6}')\n",
    "print(f'Train RMSE: {rmse_train_6}, Test RMSE: {rmse_test_6}')\n",
    "print(f'Train MAE: {mae_train_6}, Test MAE: {mae_test_6}')\n",
    "\n",
    "# Calcular R^2 para los datos de entrenamiento y prueba\n",
    "r2_train_6 = r2_score(y_train, y_train_pred_6)\n",
    "r2_test_6 = r2_score(y_test, y_test_pred_6)\n",
    "\n",
    "# Calcular RSE para los datos de entrenamiento y prueba\n",
    "n_train = len(y_train)\n",
    "p_train = X_train.shape[1] # número de características\n",
    "rse_train_6 = np.sqrt((1 / (n_train - p_train - 1)) * mse_train_6)\n",
    "\n",
    "n_test = len(y_test)\n",
    "p_test = X_test.shape[1] # número de características\n",
    "rse_test_6 = np.sqrt((1 / (n_test - p_test - 1)) * mse_test_6)\n",
    "\n",
    "print(f'Train R^2: {r2_train_6}, Test R^2: {r2_test_6}')\n",
    "print(f'Train RSE: {rse_train_6}, Test RSE: {rse_test_6}')"
   ]
  },
  {
   "cell_type": "markdown",
   "id": "a652fbc7",
   "metadata": {},
   "source": [
    "# Fit_intercept = false, copy_x = false, positive = true"
   ]
  },
  {
   "cell_type": "code",
   "execution_count": 14,
   "id": "e0f424f3",
   "metadata": {
    "ExecuteTime": {
     "end_time": "2023-09-12T12:27:20.745660Z",
     "start_time": "2023-09-12T12:08:21.816484Z"
    }
   },
   "outputs": [],
   "source": [
    "clf_linreg_7 = LinearRegression(fit_intercept=False, copy_X=False, n_jobs=None, positive=True)\n",
    "clf_linreg_7.fit(X_train, y_train)\n",
    "\n",
    "# Calcular las predicciones del modelo para los datos de entrenamiento y prueba\n",
    "y_train_pred_7 = clf_linreg_7.predict(X_train)\n",
    "y_test_pred_7 = clf_linreg_7.predict(X_test)"
   ]
  },
  {
   "cell_type": "code",
   "execution_count": 15,
   "id": "6a6fe145",
   "metadata": {
    "ExecuteTime": {
     "end_time": "2023-09-12T12:27:20.754789Z",
     "start_time": "2023-09-12T12:27:20.746667Z"
    },
    "scrolled": true
   },
   "outputs": [
    {
     "name": "stdout",
     "output_type": "stream",
     "text": [
      "Train MSE: 65805.30053097225, Test MSE: 31889.03608847747\n",
      "Train RMSE: 256.5254383701005, Test RMSE: 178.57501529743033\n",
      "Train MAE: 254.1884365126939, Test MAE: 166.64111730660943\n",
      "Train R^2: -11.779458472721041, Test R^2: -5.207895470090475\n",
      "Train RSE: nan, Test RSE: nan\n"
     ]
    },
    {
     "name": "stderr",
     "output_type": "stream",
     "text": [
      "C:\\Users\\Agus\\AppData\\Local\\Temp\\ipykernel_4604\\1131345757.py:24: RuntimeWarning: invalid value encountered in sqrt\n",
      "  rse_train_7 = np.sqrt((1 / (n_train - p_train - 1)) * mse_train_7)\n",
      "C:\\Users\\Agus\\AppData\\Local\\Temp\\ipykernel_4604\\1131345757.py:28: RuntimeWarning: invalid value encountered in sqrt\n",
      "  rse_test_7 = np.sqrt((1 / (n_test - p_test - 1)) * mse_test_7)\n"
     ]
    }
   ],
   "source": [
    "# Calcular MSE para los datos de entrenamiento y prueba\n",
    "mse_train_7 = mean_squared_error(y_train, y_train_pred_7)\n",
    "mse_test_7 = mean_squared_error(y_test, y_test_pred_7)\n",
    "\n",
    "# Calcular RMSE para los datos de entrenamiento y prueba\n",
    "rmse_train_7 = np.sqrt(mse_train_7)\n",
    "rmse_test_7 = np.sqrt(mse_test_7)\n",
    "\n",
    "# Calcular MAE para los datos de entrenamiento y prueba\n",
    "mae_train_7 = mean_absolute_error(y_train, y_train_pred_7)\n",
    "mae_test_7 = mean_absolute_error(y_test, y_test_pred_7)\n",
    "\n",
    "print(f'Train MSE: {mse_train_7}, Test MSE: {mse_test_7}')\n",
    "print(f'Train RMSE: {rmse_train_7}, Test RMSE: {rmse_test_7}')\n",
    "print(f'Train MAE: {mae_train_7}, Test MAE: {mae_test_7}')\n",
    "\n",
    "# Calcular R^2 para los datos de entrenamiento y prueba\n",
    "r2_train_7 = r2_score(y_train, y_train_pred_7)\n",
    "r2_test_7 = r2_score(y_test, y_test_pred_7)\n",
    "\n",
    "# Calcular RSE para los datos de entrenamiento y prueba\n",
    "n_train = len(y_train)\n",
    "p_train = X_train.shape[1] # número de características\n",
    "rse_train_7 = np.sqrt((1 / (n_train - p_train - 1)) * mse_train_7)\n",
    "\n",
    "n_test = len(y_test)\n",
    "p_test = X_test.shape[1] # número de características\n",
    "rse_test_7 = np.sqrt((1 / (n_test - p_test - 1)) * mse_test_7)\n",
    "\n",
    "print(f'Train R^2: {r2_train_7}, Test R^2: {r2_test_7}')\n",
    "print(f'Train RSE: {rse_train_7}, Test RSE: {rse_test_7}')"
   ]
  },
  {
   "cell_type": "markdown",
   "id": "89a4426b",
   "metadata": {},
   "source": [
    "# Grid Search"
   ]
  },
  {
   "cell_type": "code",
   "execution_count": 16,
   "id": "c34085a3",
   "metadata": {
    "ExecuteTime": {
     "end_time": "2023-09-12T23:15:23.696837Z",
     "start_time": "2023-09-12T12:27:20.755797Z"
    }
   },
   "outputs": [
    {
     "ename": "KeyboardInterrupt",
     "evalue": "",
     "output_type": "error",
     "traceback": [
      "\u001b[1;31m---------------------------------------------------------------------------\u001b[0m",
      "\u001b[1;31mKeyboardInterrupt\u001b[0m                         Traceback (most recent call last)",
      "Cell \u001b[1;32mIn[16], line 13\u001b[0m\n\u001b[0;32m     10\u001b[0m lin_reg_regressor \u001b[38;5;241m=\u001b[39m GridSearchCV(lin_reg, parameters, cv\u001b[38;5;241m=\u001b[39m\u001b[38;5;241m5\u001b[39m)\n\u001b[0;32m     12\u001b[0m \u001b[38;5;66;03m# Ajusta el modelo a tus datos\u001b[39;00m\n\u001b[1;32m---> 13\u001b[0m \u001b[43mlin_reg_regressor\u001b[49m\u001b[38;5;241;43m.\u001b[39;49m\u001b[43mfit\u001b[49m\u001b[43m(\u001b[49m\u001b[43mX_train\u001b[49m\u001b[43m,\u001b[49m\u001b[43m \u001b[49m\u001b[43my_train\u001b[49m\u001b[43m)\u001b[49m\n\u001b[0;32m     15\u001b[0m \u001b[38;5;66;03m# Imprime los mejores hiperparámetros\u001b[39;00m\n\u001b[0;32m     16\u001b[0m \u001b[38;5;28mprint\u001b[39m(lin_reg_regressor\u001b[38;5;241m.\u001b[39mbest_params_)\n",
      "File \u001b[1;32mC:\\Dev\\Python311\\Lib\\site-packages\\sklearn\\model_selection\\_search.py:874\u001b[0m, in \u001b[0;36mBaseSearchCV.fit\u001b[1;34m(self, X, y, groups, **fit_params)\u001b[0m\n\u001b[0;32m    868\u001b[0m     results \u001b[38;5;241m=\u001b[39m \u001b[38;5;28mself\u001b[39m\u001b[38;5;241m.\u001b[39m_format_results(\n\u001b[0;32m    869\u001b[0m         all_candidate_params, n_splits, all_out, all_more_results\n\u001b[0;32m    870\u001b[0m     )\n\u001b[0;32m    872\u001b[0m     \u001b[38;5;28;01mreturn\u001b[39;00m results\n\u001b[1;32m--> 874\u001b[0m \u001b[38;5;28;43mself\u001b[39;49m\u001b[38;5;241;43m.\u001b[39;49m\u001b[43m_run_search\u001b[49m\u001b[43m(\u001b[49m\u001b[43mevaluate_candidates\u001b[49m\u001b[43m)\u001b[49m\n\u001b[0;32m    876\u001b[0m \u001b[38;5;66;03m# multimetric is determined here because in the case of a callable\u001b[39;00m\n\u001b[0;32m    877\u001b[0m \u001b[38;5;66;03m# self.scoring the return type is only known after calling\u001b[39;00m\n\u001b[0;32m    878\u001b[0m first_test_score \u001b[38;5;241m=\u001b[39m all_out[\u001b[38;5;241m0\u001b[39m][\u001b[38;5;124m\"\u001b[39m\u001b[38;5;124mtest_scores\u001b[39m\u001b[38;5;124m\"\u001b[39m]\n",
      "File \u001b[1;32mC:\\Dev\\Python311\\Lib\\site-packages\\sklearn\\model_selection\\_search.py:1388\u001b[0m, in \u001b[0;36mGridSearchCV._run_search\u001b[1;34m(self, evaluate_candidates)\u001b[0m\n\u001b[0;32m   1386\u001b[0m \u001b[38;5;28;01mdef\u001b[39;00m \u001b[38;5;21m_run_search\u001b[39m(\u001b[38;5;28mself\u001b[39m, evaluate_candidates):\n\u001b[0;32m   1387\u001b[0m \u001b[38;5;250m    \u001b[39m\u001b[38;5;124;03m\"\"\"Search all candidates in param_grid\"\"\"\u001b[39;00m\n\u001b[1;32m-> 1388\u001b[0m     \u001b[43mevaluate_candidates\u001b[49m\u001b[43m(\u001b[49m\u001b[43mParameterGrid\u001b[49m\u001b[43m(\u001b[49m\u001b[38;5;28;43mself\u001b[39;49m\u001b[38;5;241;43m.\u001b[39;49m\u001b[43mparam_grid\u001b[49m\u001b[43m)\u001b[49m\u001b[43m)\u001b[49m\n",
      "File \u001b[1;32mC:\\Dev\\Python311\\Lib\\site-packages\\sklearn\\model_selection\\_search.py:821\u001b[0m, in \u001b[0;36mBaseSearchCV.fit.<locals>.evaluate_candidates\u001b[1;34m(candidate_params, cv, more_results)\u001b[0m\n\u001b[0;32m    813\u001b[0m \u001b[38;5;28;01mif\u001b[39;00m \u001b[38;5;28mself\u001b[39m\u001b[38;5;241m.\u001b[39mverbose \u001b[38;5;241m>\u001b[39m \u001b[38;5;241m0\u001b[39m:\n\u001b[0;32m    814\u001b[0m     \u001b[38;5;28mprint\u001b[39m(\n\u001b[0;32m    815\u001b[0m         \u001b[38;5;124m\"\u001b[39m\u001b[38;5;124mFitting \u001b[39m\u001b[38;5;132;01m{0}\u001b[39;00m\u001b[38;5;124m folds for each of \u001b[39m\u001b[38;5;132;01m{1}\u001b[39;00m\u001b[38;5;124m candidates,\u001b[39m\u001b[38;5;124m\"\u001b[39m\n\u001b[0;32m    816\u001b[0m         \u001b[38;5;124m\"\u001b[39m\u001b[38;5;124m totalling \u001b[39m\u001b[38;5;132;01m{2}\u001b[39;00m\u001b[38;5;124m fits\u001b[39m\u001b[38;5;124m\"\u001b[39m\u001b[38;5;241m.\u001b[39mformat(\n\u001b[0;32m    817\u001b[0m             n_splits, n_candidates, n_candidates \u001b[38;5;241m*\u001b[39m n_splits\n\u001b[0;32m    818\u001b[0m         )\n\u001b[0;32m    819\u001b[0m     )\n\u001b[1;32m--> 821\u001b[0m out \u001b[38;5;241m=\u001b[39m \u001b[43mparallel\u001b[49m\u001b[43m(\u001b[49m\n\u001b[0;32m    822\u001b[0m \u001b[43m    \u001b[49m\u001b[43mdelayed\u001b[49m\u001b[43m(\u001b[49m\u001b[43m_fit_and_score\u001b[49m\u001b[43m)\u001b[49m\u001b[43m(\u001b[49m\n\u001b[0;32m    823\u001b[0m \u001b[43m        \u001b[49m\u001b[43mclone\u001b[49m\u001b[43m(\u001b[49m\u001b[43mbase_estimator\u001b[49m\u001b[43m)\u001b[49m\u001b[43m,\u001b[49m\n\u001b[0;32m    824\u001b[0m \u001b[43m        \u001b[49m\u001b[43mX\u001b[49m\u001b[43m,\u001b[49m\n\u001b[0;32m    825\u001b[0m \u001b[43m        \u001b[49m\u001b[43my\u001b[49m\u001b[43m,\u001b[49m\n\u001b[0;32m    826\u001b[0m \u001b[43m        \u001b[49m\u001b[43mtrain\u001b[49m\u001b[38;5;241;43m=\u001b[39;49m\u001b[43mtrain\u001b[49m\u001b[43m,\u001b[49m\n\u001b[0;32m    827\u001b[0m \u001b[43m        \u001b[49m\u001b[43mtest\u001b[49m\u001b[38;5;241;43m=\u001b[39;49m\u001b[43mtest\u001b[49m\u001b[43m,\u001b[49m\n\u001b[0;32m    828\u001b[0m \u001b[43m        \u001b[49m\u001b[43mparameters\u001b[49m\u001b[38;5;241;43m=\u001b[39;49m\u001b[43mparameters\u001b[49m\u001b[43m,\u001b[49m\n\u001b[0;32m    829\u001b[0m \u001b[43m        \u001b[49m\u001b[43msplit_progress\u001b[49m\u001b[38;5;241;43m=\u001b[39;49m\u001b[43m(\u001b[49m\u001b[43msplit_idx\u001b[49m\u001b[43m,\u001b[49m\u001b[43m \u001b[49m\u001b[43mn_splits\u001b[49m\u001b[43m)\u001b[49m\u001b[43m,\u001b[49m\n\u001b[0;32m    830\u001b[0m \u001b[43m        \u001b[49m\u001b[43mcandidate_progress\u001b[49m\u001b[38;5;241;43m=\u001b[39;49m\u001b[43m(\u001b[49m\u001b[43mcand_idx\u001b[49m\u001b[43m,\u001b[49m\u001b[43m \u001b[49m\u001b[43mn_candidates\u001b[49m\u001b[43m)\u001b[49m\u001b[43m,\u001b[49m\n\u001b[0;32m    831\u001b[0m \u001b[43m        \u001b[49m\u001b[38;5;241;43m*\u001b[39;49m\u001b[38;5;241;43m*\u001b[39;49m\u001b[43mfit_and_score_kwargs\u001b[49m\u001b[43m,\u001b[49m\n\u001b[0;32m    832\u001b[0m \u001b[43m    \u001b[49m\u001b[43m)\u001b[49m\n\u001b[0;32m    833\u001b[0m \u001b[43m    \u001b[49m\u001b[38;5;28;43;01mfor\u001b[39;49;00m\u001b[43m \u001b[49m\u001b[43m(\u001b[49m\u001b[43mcand_idx\u001b[49m\u001b[43m,\u001b[49m\u001b[43m \u001b[49m\u001b[43mparameters\u001b[49m\u001b[43m)\u001b[49m\u001b[43m,\u001b[49m\u001b[43m \u001b[49m\u001b[43m(\u001b[49m\u001b[43msplit_idx\u001b[49m\u001b[43m,\u001b[49m\u001b[43m \u001b[49m\u001b[43m(\u001b[49m\u001b[43mtrain\u001b[49m\u001b[43m,\u001b[49m\u001b[43m \u001b[49m\u001b[43mtest\u001b[49m\u001b[43m)\u001b[49m\u001b[43m)\u001b[49m\u001b[43m \u001b[49m\u001b[38;5;129;43;01min\u001b[39;49;00m\u001b[43m \u001b[49m\u001b[43mproduct\u001b[49m\u001b[43m(\u001b[49m\n\u001b[0;32m    834\u001b[0m \u001b[43m        \u001b[49m\u001b[38;5;28;43menumerate\u001b[39;49m\u001b[43m(\u001b[49m\u001b[43mcandidate_params\u001b[49m\u001b[43m)\u001b[49m\u001b[43m,\u001b[49m\u001b[43m \u001b[49m\u001b[38;5;28;43menumerate\u001b[39;49m\u001b[43m(\u001b[49m\u001b[43mcv\u001b[49m\u001b[38;5;241;43m.\u001b[39;49m\u001b[43msplit\u001b[49m\u001b[43m(\u001b[49m\u001b[43mX\u001b[49m\u001b[43m,\u001b[49m\u001b[43m \u001b[49m\u001b[43my\u001b[49m\u001b[43m,\u001b[49m\u001b[43m \u001b[49m\u001b[43mgroups\u001b[49m\u001b[43m)\u001b[49m\u001b[43m)\u001b[49m\n\u001b[0;32m    835\u001b[0m \u001b[43m    \u001b[49m\u001b[43m)\u001b[49m\n\u001b[0;32m    836\u001b[0m \u001b[43m\u001b[49m\u001b[43m)\u001b[49m\n\u001b[0;32m    838\u001b[0m \u001b[38;5;28;01mif\u001b[39;00m \u001b[38;5;28mlen\u001b[39m(out) \u001b[38;5;241m<\u001b[39m \u001b[38;5;241m1\u001b[39m:\n\u001b[0;32m    839\u001b[0m     \u001b[38;5;28;01mraise\u001b[39;00m \u001b[38;5;167;01mValueError\u001b[39;00m(\n\u001b[0;32m    840\u001b[0m         \u001b[38;5;124m\"\u001b[39m\u001b[38;5;124mNo fits were performed. \u001b[39m\u001b[38;5;124m\"\u001b[39m\n\u001b[0;32m    841\u001b[0m         \u001b[38;5;124m\"\u001b[39m\u001b[38;5;124mWas the CV iterator empty? \u001b[39m\u001b[38;5;124m\"\u001b[39m\n\u001b[0;32m    842\u001b[0m         \u001b[38;5;124m\"\u001b[39m\u001b[38;5;124mWere there no candidates?\u001b[39m\u001b[38;5;124m\"\u001b[39m\n\u001b[0;32m    843\u001b[0m     )\n",
      "File \u001b[1;32mC:\\Dev\\Python311\\Lib\\site-packages\\sklearn\\utils\\parallel.py:63\u001b[0m, in \u001b[0;36mParallel.__call__\u001b[1;34m(self, iterable)\u001b[0m\n\u001b[0;32m     58\u001b[0m config \u001b[38;5;241m=\u001b[39m get_config()\n\u001b[0;32m     59\u001b[0m iterable_with_config \u001b[38;5;241m=\u001b[39m (\n\u001b[0;32m     60\u001b[0m     (_with_config(delayed_func, config), args, kwargs)\n\u001b[0;32m     61\u001b[0m     \u001b[38;5;28;01mfor\u001b[39;00m delayed_func, args, kwargs \u001b[38;5;129;01min\u001b[39;00m iterable\n\u001b[0;32m     62\u001b[0m )\n\u001b[1;32m---> 63\u001b[0m \u001b[38;5;28;01mreturn\u001b[39;00m \u001b[38;5;28;43msuper\u001b[39;49m\u001b[43m(\u001b[49m\u001b[43m)\u001b[49m\u001b[38;5;241;43m.\u001b[39;49m\u001b[38;5;21;43m__call__\u001b[39;49m\u001b[43m(\u001b[49m\u001b[43miterable_with_config\u001b[49m\u001b[43m)\u001b[49m\n",
      "File \u001b[1;32mC:\\Dev\\Python311\\Lib\\site-packages\\joblib\\parallel.py:1088\u001b[0m, in \u001b[0;36mParallel.__call__\u001b[1;34m(self, iterable)\u001b[0m\n\u001b[0;32m   1085\u001b[0m \u001b[38;5;28;01mif\u001b[39;00m \u001b[38;5;28mself\u001b[39m\u001b[38;5;241m.\u001b[39mdispatch_one_batch(iterator):\n\u001b[0;32m   1086\u001b[0m     \u001b[38;5;28mself\u001b[39m\u001b[38;5;241m.\u001b[39m_iterating \u001b[38;5;241m=\u001b[39m \u001b[38;5;28mself\u001b[39m\u001b[38;5;241m.\u001b[39m_original_iterator \u001b[38;5;129;01mis\u001b[39;00m \u001b[38;5;129;01mnot\u001b[39;00m \u001b[38;5;28;01mNone\u001b[39;00m\n\u001b[1;32m-> 1088\u001b[0m \u001b[38;5;28;01mwhile\u001b[39;00m \u001b[38;5;28;43mself\u001b[39;49m\u001b[38;5;241;43m.\u001b[39;49m\u001b[43mdispatch_one_batch\u001b[49m\u001b[43m(\u001b[49m\u001b[43miterator\u001b[49m\u001b[43m)\u001b[49m:\n\u001b[0;32m   1089\u001b[0m     \u001b[38;5;28;01mpass\u001b[39;00m\n\u001b[0;32m   1091\u001b[0m \u001b[38;5;28;01mif\u001b[39;00m pre_dispatch \u001b[38;5;241m==\u001b[39m \u001b[38;5;124m\"\u001b[39m\u001b[38;5;124mall\u001b[39m\u001b[38;5;124m\"\u001b[39m \u001b[38;5;129;01mor\u001b[39;00m n_jobs \u001b[38;5;241m==\u001b[39m \u001b[38;5;241m1\u001b[39m:\n\u001b[0;32m   1092\u001b[0m     \u001b[38;5;66;03m# The iterable was consumed all at once by the above for loop.\u001b[39;00m\n\u001b[0;32m   1093\u001b[0m     \u001b[38;5;66;03m# No need to wait for async callbacks to trigger to\u001b[39;00m\n\u001b[0;32m   1094\u001b[0m     \u001b[38;5;66;03m# consumption.\u001b[39;00m\n",
      "File \u001b[1;32mC:\\Dev\\Python311\\Lib\\site-packages\\joblib\\parallel.py:901\u001b[0m, in \u001b[0;36mParallel.dispatch_one_batch\u001b[1;34m(self, iterator)\u001b[0m\n\u001b[0;32m    899\u001b[0m     \u001b[38;5;28;01mreturn\u001b[39;00m \u001b[38;5;28;01mFalse\u001b[39;00m\n\u001b[0;32m    900\u001b[0m \u001b[38;5;28;01melse\u001b[39;00m:\n\u001b[1;32m--> 901\u001b[0m     \u001b[38;5;28;43mself\u001b[39;49m\u001b[38;5;241;43m.\u001b[39;49m\u001b[43m_dispatch\u001b[49m\u001b[43m(\u001b[49m\u001b[43mtasks\u001b[49m\u001b[43m)\u001b[49m\n\u001b[0;32m    902\u001b[0m     \u001b[38;5;28;01mreturn\u001b[39;00m \u001b[38;5;28;01mTrue\u001b[39;00m\n",
      "File \u001b[1;32mC:\\Dev\\Python311\\Lib\\site-packages\\joblib\\parallel.py:819\u001b[0m, in \u001b[0;36mParallel._dispatch\u001b[1;34m(self, batch)\u001b[0m\n\u001b[0;32m    817\u001b[0m \u001b[38;5;28;01mwith\u001b[39;00m \u001b[38;5;28mself\u001b[39m\u001b[38;5;241m.\u001b[39m_lock:\n\u001b[0;32m    818\u001b[0m     job_idx \u001b[38;5;241m=\u001b[39m \u001b[38;5;28mlen\u001b[39m(\u001b[38;5;28mself\u001b[39m\u001b[38;5;241m.\u001b[39m_jobs)\n\u001b[1;32m--> 819\u001b[0m     job \u001b[38;5;241m=\u001b[39m \u001b[38;5;28;43mself\u001b[39;49m\u001b[38;5;241;43m.\u001b[39;49m\u001b[43m_backend\u001b[49m\u001b[38;5;241;43m.\u001b[39;49m\u001b[43mapply_async\u001b[49m\u001b[43m(\u001b[49m\u001b[43mbatch\u001b[49m\u001b[43m,\u001b[49m\u001b[43m \u001b[49m\u001b[43mcallback\u001b[49m\u001b[38;5;241;43m=\u001b[39;49m\u001b[43mcb\u001b[49m\u001b[43m)\u001b[49m\n\u001b[0;32m    820\u001b[0m     \u001b[38;5;66;03m# A job can complete so quickly than its callback is\u001b[39;00m\n\u001b[0;32m    821\u001b[0m     \u001b[38;5;66;03m# called before we get here, causing self._jobs to\u001b[39;00m\n\u001b[0;32m    822\u001b[0m     \u001b[38;5;66;03m# grow. To ensure correct results ordering, .insert is\u001b[39;00m\n\u001b[0;32m    823\u001b[0m     \u001b[38;5;66;03m# used (rather than .append) in the following line\u001b[39;00m\n\u001b[0;32m    824\u001b[0m     \u001b[38;5;28mself\u001b[39m\u001b[38;5;241m.\u001b[39m_jobs\u001b[38;5;241m.\u001b[39minsert(job_idx, job)\n",
      "File \u001b[1;32mC:\\Dev\\Python311\\Lib\\site-packages\\joblib\\_parallel_backends.py:208\u001b[0m, in \u001b[0;36mSequentialBackend.apply_async\u001b[1;34m(self, func, callback)\u001b[0m\n\u001b[0;32m    206\u001b[0m \u001b[38;5;28;01mdef\u001b[39;00m \u001b[38;5;21mapply_async\u001b[39m(\u001b[38;5;28mself\u001b[39m, func, callback\u001b[38;5;241m=\u001b[39m\u001b[38;5;28;01mNone\u001b[39;00m):\n\u001b[0;32m    207\u001b[0m \u001b[38;5;250m    \u001b[39m\u001b[38;5;124;03m\"\"\"Schedule a func to be run\"\"\"\u001b[39;00m\n\u001b[1;32m--> 208\u001b[0m     result \u001b[38;5;241m=\u001b[39m \u001b[43mImmediateResult\u001b[49m\u001b[43m(\u001b[49m\u001b[43mfunc\u001b[49m\u001b[43m)\u001b[49m\n\u001b[0;32m    209\u001b[0m     \u001b[38;5;28;01mif\u001b[39;00m callback:\n\u001b[0;32m    210\u001b[0m         callback(result)\n",
      "File \u001b[1;32mC:\\Dev\\Python311\\Lib\\site-packages\\joblib\\_parallel_backends.py:597\u001b[0m, in \u001b[0;36mImmediateResult.__init__\u001b[1;34m(self, batch)\u001b[0m\n\u001b[0;32m    594\u001b[0m \u001b[38;5;28;01mdef\u001b[39;00m \u001b[38;5;21m__init__\u001b[39m(\u001b[38;5;28mself\u001b[39m, batch):\n\u001b[0;32m    595\u001b[0m     \u001b[38;5;66;03m# Don't delay the application, to avoid keeping the input\u001b[39;00m\n\u001b[0;32m    596\u001b[0m     \u001b[38;5;66;03m# arguments in memory\u001b[39;00m\n\u001b[1;32m--> 597\u001b[0m     \u001b[38;5;28mself\u001b[39m\u001b[38;5;241m.\u001b[39mresults \u001b[38;5;241m=\u001b[39m \u001b[43mbatch\u001b[49m\u001b[43m(\u001b[49m\u001b[43m)\u001b[49m\n",
      "File \u001b[1;32mC:\\Dev\\Python311\\Lib\\site-packages\\joblib\\parallel.py:288\u001b[0m, in \u001b[0;36mBatchedCalls.__call__\u001b[1;34m(self)\u001b[0m\n\u001b[0;32m    284\u001b[0m \u001b[38;5;28;01mdef\u001b[39;00m \u001b[38;5;21m__call__\u001b[39m(\u001b[38;5;28mself\u001b[39m):\n\u001b[0;32m    285\u001b[0m     \u001b[38;5;66;03m# Set the default nested backend to self._backend but do not set the\u001b[39;00m\n\u001b[0;32m    286\u001b[0m     \u001b[38;5;66;03m# change the default number of processes to -1\u001b[39;00m\n\u001b[0;32m    287\u001b[0m     \u001b[38;5;28;01mwith\u001b[39;00m parallel_backend(\u001b[38;5;28mself\u001b[39m\u001b[38;5;241m.\u001b[39m_backend, n_jobs\u001b[38;5;241m=\u001b[39m\u001b[38;5;28mself\u001b[39m\u001b[38;5;241m.\u001b[39m_n_jobs):\n\u001b[1;32m--> 288\u001b[0m         \u001b[38;5;28;01mreturn\u001b[39;00m \u001b[43m[\u001b[49m\u001b[43mfunc\u001b[49m\u001b[43m(\u001b[49m\u001b[38;5;241;43m*\u001b[39;49m\u001b[43margs\u001b[49m\u001b[43m,\u001b[49m\u001b[43m \u001b[49m\u001b[38;5;241;43m*\u001b[39;49m\u001b[38;5;241;43m*\u001b[39;49m\u001b[43mkwargs\u001b[49m\u001b[43m)\u001b[49m\n\u001b[0;32m    289\u001b[0m \u001b[43m                \u001b[49m\u001b[38;5;28;43;01mfor\u001b[39;49;00m\u001b[43m \u001b[49m\u001b[43mfunc\u001b[49m\u001b[43m,\u001b[49m\u001b[43m \u001b[49m\u001b[43margs\u001b[49m\u001b[43m,\u001b[49m\u001b[43m \u001b[49m\u001b[43mkwargs\u001b[49m\u001b[43m \u001b[49m\u001b[38;5;129;43;01min\u001b[39;49;00m\u001b[43m \u001b[49m\u001b[38;5;28;43mself\u001b[39;49m\u001b[38;5;241;43m.\u001b[39;49m\u001b[43mitems\u001b[49m\u001b[43m]\u001b[49m\n",
      "File \u001b[1;32mC:\\Dev\\Python311\\Lib\\site-packages\\joblib\\parallel.py:288\u001b[0m, in \u001b[0;36m<listcomp>\u001b[1;34m(.0)\u001b[0m\n\u001b[0;32m    284\u001b[0m \u001b[38;5;28;01mdef\u001b[39;00m \u001b[38;5;21m__call__\u001b[39m(\u001b[38;5;28mself\u001b[39m):\n\u001b[0;32m    285\u001b[0m     \u001b[38;5;66;03m# Set the default nested backend to self._backend but do not set the\u001b[39;00m\n\u001b[0;32m    286\u001b[0m     \u001b[38;5;66;03m# change the default number of processes to -1\u001b[39;00m\n\u001b[0;32m    287\u001b[0m     \u001b[38;5;28;01mwith\u001b[39;00m parallel_backend(\u001b[38;5;28mself\u001b[39m\u001b[38;5;241m.\u001b[39m_backend, n_jobs\u001b[38;5;241m=\u001b[39m\u001b[38;5;28mself\u001b[39m\u001b[38;5;241m.\u001b[39m_n_jobs):\n\u001b[1;32m--> 288\u001b[0m         \u001b[38;5;28;01mreturn\u001b[39;00m [\u001b[43mfunc\u001b[49m\u001b[43m(\u001b[49m\u001b[38;5;241;43m*\u001b[39;49m\u001b[43margs\u001b[49m\u001b[43m,\u001b[49m\u001b[43m \u001b[49m\u001b[38;5;241;43m*\u001b[39;49m\u001b[38;5;241;43m*\u001b[39;49m\u001b[43mkwargs\u001b[49m\u001b[43m)\u001b[49m\n\u001b[0;32m    289\u001b[0m                 \u001b[38;5;28;01mfor\u001b[39;00m func, args, kwargs \u001b[38;5;129;01min\u001b[39;00m \u001b[38;5;28mself\u001b[39m\u001b[38;5;241m.\u001b[39mitems]\n",
      "File \u001b[1;32mC:\\Dev\\Python311\\Lib\\site-packages\\sklearn\\utils\\parallel.py:123\u001b[0m, in \u001b[0;36m_FuncWrapper.__call__\u001b[1;34m(self, *args, **kwargs)\u001b[0m\n\u001b[0;32m    121\u001b[0m     config \u001b[38;5;241m=\u001b[39m {}\n\u001b[0;32m    122\u001b[0m \u001b[38;5;28;01mwith\u001b[39;00m config_context(\u001b[38;5;241m*\u001b[39m\u001b[38;5;241m*\u001b[39mconfig):\n\u001b[1;32m--> 123\u001b[0m     \u001b[38;5;28;01mreturn\u001b[39;00m \u001b[38;5;28;43mself\u001b[39;49m\u001b[38;5;241;43m.\u001b[39;49m\u001b[43mfunction\u001b[49m\u001b[43m(\u001b[49m\u001b[38;5;241;43m*\u001b[39;49m\u001b[43margs\u001b[49m\u001b[43m,\u001b[49m\u001b[43m \u001b[49m\u001b[38;5;241;43m*\u001b[39;49m\u001b[38;5;241;43m*\u001b[39;49m\u001b[43mkwargs\u001b[49m\u001b[43m)\u001b[49m\n",
      "File \u001b[1;32mC:\\Dev\\Python311\\Lib\\site-packages\\sklearn\\model_selection\\_validation.py:686\u001b[0m, in \u001b[0;36m_fit_and_score\u001b[1;34m(estimator, X, y, scorer, train, test, verbose, parameters, fit_params, return_train_score, return_parameters, return_n_test_samples, return_times, return_estimator, split_progress, candidate_progress, error_score)\u001b[0m\n\u001b[0;32m    684\u001b[0m         estimator\u001b[38;5;241m.\u001b[39mfit(X_train, \u001b[38;5;241m*\u001b[39m\u001b[38;5;241m*\u001b[39mfit_params)\n\u001b[0;32m    685\u001b[0m     \u001b[38;5;28;01melse\u001b[39;00m:\n\u001b[1;32m--> 686\u001b[0m         \u001b[43mestimator\u001b[49m\u001b[38;5;241;43m.\u001b[39;49m\u001b[43mfit\u001b[49m\u001b[43m(\u001b[49m\u001b[43mX_train\u001b[49m\u001b[43m,\u001b[49m\u001b[43m \u001b[49m\u001b[43my_train\u001b[49m\u001b[43m,\u001b[49m\u001b[43m \u001b[49m\u001b[38;5;241;43m*\u001b[39;49m\u001b[38;5;241;43m*\u001b[39;49m\u001b[43mfit_params\u001b[49m\u001b[43m)\u001b[49m\n\u001b[0;32m    688\u001b[0m \u001b[38;5;28;01mexcept\u001b[39;00m \u001b[38;5;167;01mException\u001b[39;00m:\n\u001b[0;32m    689\u001b[0m     \u001b[38;5;66;03m# Note fit time as time until error\u001b[39;00m\n\u001b[0;32m    690\u001b[0m     fit_time \u001b[38;5;241m=\u001b[39m time\u001b[38;5;241m.\u001b[39mtime() \u001b[38;5;241m-\u001b[39m start_time\n",
      "File \u001b[1;32mC:\\Dev\\Python311\\Lib\\site-packages\\sklearn\\linear_model\\_base.py:703\u001b[0m, in \u001b[0;36mLinearRegression.fit\u001b[1;34m(self, X, y, sample_weight)\u001b[0m\n\u001b[0;32m    700\u001b[0m     \u001b[38;5;28mself\u001b[39m\u001b[38;5;241m.\u001b[39mcoef_ \u001b[38;5;241m=\u001b[39m \u001b[38;5;28mself\u001b[39m\u001b[38;5;241m.\u001b[39mcoef_\u001b[38;5;241m.\u001b[39mT\n\u001b[0;32m    702\u001b[0m \u001b[38;5;28;01mif\u001b[39;00m y\u001b[38;5;241m.\u001b[39mndim \u001b[38;5;241m==\u001b[39m \u001b[38;5;241m1\u001b[39m:\n\u001b[1;32m--> 703\u001b[0m     \u001b[38;5;28mself\u001b[39m\u001b[38;5;241m.\u001b[39mcoef_ \u001b[38;5;241m=\u001b[39m \u001b[43mnp\u001b[49m\u001b[38;5;241;43m.\u001b[39;49m\u001b[43mravel\u001b[49m\u001b[43m(\u001b[49m\u001b[38;5;28;43mself\u001b[39;49m\u001b[38;5;241;43m.\u001b[39;49m\u001b[43mcoef_\u001b[49m\u001b[43m)\u001b[49m\n\u001b[0;32m    704\u001b[0m \u001b[38;5;28mself\u001b[39m\u001b[38;5;241m.\u001b[39m_set_intercept(X_offset, y_offset, X_scale)\n\u001b[0;32m    705\u001b[0m \u001b[38;5;28;01mreturn\u001b[39;00m \u001b[38;5;28mself\u001b[39m\n",
      "File \u001b[1;32m<__array_function__ internals>:177\u001b[0m, in \u001b[0;36mravel\u001b[1;34m(*args, **kwargs)\u001b[0m\n",
      "\u001b[1;31mKeyboardInterrupt\u001b[0m: "
     ]
    }
   ],
   "source": [
    "# Define los hiperparámetros que quieres ajustar\n",
    "parameters = {'fit_intercept': [True, False], \n",
    "              'copy_X': [True, False], \n",
    "              'positive': [True, False]}\n",
    "\n",
    "# Crea una instancia del modelo\n",
    "lin_reg = LinearRegression()\n",
    "\n",
    "# Crea una instancia de GridSearchCV\n",
    "lin_reg_regressor = GridSearchCV(lin_reg, parameters, cv=5)\n",
    "\n",
    "# Ajusta el modelo a tus datos\n",
    "lin_reg_regressor.fit(X_train, y_train)\n",
    "\n",
    "# Imprime los mejores hiperparámetros\n",
    "print(lin_reg_regressor.best_params_)"
   ]
  }
 ],
 "metadata": {
  "kernelspec": {
   "display_name": "Python 3 (ipykernel)",
   "language": "python",
   "name": "python3"
  },
  "language_info": {
   "codemirror_mode": {
    "name": "ipython",
    "version": 3
   },
   "file_extension": ".py",
   "mimetype": "text/x-python",
   "name": "python",
   "nbconvert_exporter": "python",
   "pygments_lexer": "ipython3",
   "version": "3.11.1"
  },
  "toc": {
   "base_numbering": 1,
   "nav_menu": {},
   "number_sections": false,
   "sideBar": true,
   "skip_h1_title": false,
   "title_cell": "Table of Contents",
   "title_sidebar": "Contents",
   "toc_cell": true,
   "toc_position": {},
   "toc_section_display": true,
   "toc_window_display": false
  },
  "varInspector": {
   "cols": {
    "lenName": 16,
    "lenType": 16,
    "lenVar": 40
   },
   "kernels_config": {
    "python": {
     "delete_cmd_postfix": "",
     "delete_cmd_prefix": "del ",
     "library": "var_list.py",
     "varRefreshCmd": "print(var_dic_list())"
    },
    "r": {
     "delete_cmd_postfix": ") ",
     "delete_cmd_prefix": "rm(",
     "library": "var_list.r",
     "varRefreshCmd": "cat(var_dic_list()) "
    }
   },
   "types_to_exclude": [
    "module",
    "function",
    "builtin_function_or_method",
    "instance",
    "_Feature"
   ],
   "window_display": false
  }
 },
 "nbformat": 4,
 "nbformat_minor": 5
}
