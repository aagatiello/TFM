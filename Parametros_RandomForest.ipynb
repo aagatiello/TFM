{
 "cells": [
  {
   "cell_type": "markdown",
   "id": "bf4be163",
   "metadata": {
    "ExecuteTime": {
     "end_time": "2023-09-11T23:57:33.105222Z",
     "start_time": "2023-09-11T23:57:33.101646Z"
    }
   },
   "source": [
    "**<center><font size = \"6\"> Entrenamiento de hiperparámetros en Regresión Lineal <center>**\n",
    "***"
   ]
  },
  {
   "cell_type": "markdown",
   "id": "fec4d3bb",
   "metadata": {
    "toc": true
   },
   "source": [
    "<h1>Table of Contents<span class=\"tocSkip\"></span></h1>\n",
    "<div class=\"toc\"><ul class=\"toc-item\"><li><span><a href=\"#Parámetros-por-defecto\" data-toc-modified-id=\"Parámetros-por-defecto-1\">Parámetros por defecto</a></span></li><li><span><a href=\"#Positive-=-true\" data-toc-modified-id=\"Positive-=-true-2\">Positive = true</a></span></li><li><span><a href=\"#Copy_X-=-false\" data-toc-modified-id=\"Copy_X-=-false-3\">Copy_X = false</a></span></li><li><span><a href=\"#Copy_x-=-False,-Positive-=-True\" data-toc-modified-id=\"Copy_x-=-False,-Positive-=-True-4\">Copy_x = False, Positive = True</a></span></li><li><span><a href=\"#Fit_intercept-=-false\" data-toc-modified-id=\"Fit_intercept-=-false-5\">Fit_intercept = false</a></span></li><li><span><a href=\"#Fit_intercept-=-false,-positive-=-true\" data-toc-modified-id=\"Fit_intercept-=-false,-positive-=-true-6\">Fit_intercept = false, positive = true</a></span></li><li><span><a href=\"#Fit_intercept-=-false,-copy_x-=-false,-positive-=-true\" data-toc-modified-id=\"Fit_intercept-=-false,-copy_x-=-false,-positive-=-true-7\">Fit_intercept = false, copy_x = false, positive = true</a></span></li><li><span><a href=\"#Grid-Search\" data-toc-modified-id=\"Grid-Search-8\">Grid Search</a></span></li></ul></div>"
   ]
  },
  {
   "cell_type": "markdown",
   "id": "3db9212f",
   "metadata": {
    "ExecuteTime": {
     "end_time": "2023-09-11T23:57:40.486197Z",
     "start_time": "2023-09-11T23:57:40.482756Z"
    }
   },
   "source": [
    "***"
   ]
  },
  {
   "cell_type": "code",
   "execution_count": 1,
   "id": "6c7af765",
   "metadata": {
    "ExecuteTime": {
     "end_time": "2023-09-13T08:41:33.432308Z",
     "start_time": "2023-09-13T08:41:29.634343Z"
    }
   },
   "outputs": [],
   "source": [
    "from sklearn.ensemble import RandomForestRegressor\n",
    "from sklearn.metrics import mean_squared_error, mean_absolute_error, r2_score\n",
    "from sklearn.model_selection import GridSearchCV\n",
    "import pickle\n",
    "import numpy as np\n",
    "\n",
    "X_train = pickle.load(open(\"saved_feats/X_train_r\", \"rb\"))\n",
    "X_test = pickle.load(open(\"saved_feats/X_test_r\", \"rb\"))\n",
    "y_train = pickle.load(open(\"saved_feats/y_train_r\", \"rb\"))\n",
    "y_test = pickle.load(open(\"saved_feats/y_test_r\", \"rb\"))"
   ]
  },
  {
   "cell_type": "markdown",
   "id": "e9e43fec",
   "metadata": {
    "ExecuteTime": {
     "end_time": "2023-09-11T23:57:55.949387Z",
     "start_time": "2023-09-11T23:57:55.946401Z"
    }
   },
   "source": [
    "# Parámetros por defecto"
   ]
  },
  {
   "cell_type": "code",
   "execution_count": 2,
   "id": "571439ee",
   "metadata": {
    "ExecuteTime": {
     "end_time": "2023-09-13T05:04:39.981660Z",
     "start_time": "2023-09-13T03:47:10.345289Z"
    },
    "scrolled": true
   },
   "outputs": [],
   "source": [
    "clr_ranfor_1 = RandomForestRegressor(n_estimators=100, criterion='squared_error', max_depth=None, min_samples_split=2, min_samples_leaf=1, min_weight_fraction_leaf=0.0, max_features=1.0,\n",
    "                                     max_leaf_nodes=None, min_impurity_decrease=0.0, bootstrap=True, oob_score=False, n_jobs=None, random_state=43, verbose=0, warm_start=False, ccp_alpha=0.0, max_samples=None)\n",
    "clr_ranfor_1.fit(X_train, y_train)\n",
    "\n",
    "# Calcular las predicciones del modelo para los datos de entrenamiento y prueba\n",
    "y_train_pred_1 = clr_ranfor_1.predict(X_train)\n",
    "y_test_pred_1 = clr_ranfor_1.predict(X_test)"
   ]
  },
  {
   "cell_type": "code",
   "execution_count": 3,
   "id": "1e83275d",
   "metadata": {
    "ExecuteTime": {
     "end_time": "2023-09-13T05:04:39.996521Z",
     "start_time": "2023-09-13T05:04:39.984667Z"
    }
   },
   "outputs": [
    {
     "name": "stdout",
     "output_type": "stream",
     "text": [
      "Train MSE: 530.2932964480177, Test MSE: 2414.9066898889423\n",
      "Train RMSE: 23.02809797721075, Test RMSE: 49.14170011191048\n",
      "Train MAE: 14.014493885282695, Test MAE: 32.06299684879087\n",
      "Train R^2: 0.8970164849086867, Test R^2: 0.5298858121876675\n",
      "Train RSE: nan, Test RSE: nan\n"
     ]
    },
    {
     "name": "stderr",
     "output_type": "stream",
     "text": [
      "C:\\Users\\Agus\\AppData\\Local\\Temp\\ipykernel_20724\\2854169060.py:24: RuntimeWarning: invalid value encountered in sqrt\n",
      "  rse_train_1 = np.sqrt((1 / (n_train - p_train - 1)) * mse_train_1)\n",
      "C:\\Users\\Agus\\AppData\\Local\\Temp\\ipykernel_20724\\2854169060.py:28: RuntimeWarning: invalid value encountered in sqrt\n",
      "  rse_test_1 = np.sqrt((1 / (n_test - p_test - 1)) * mse_test_1)\n"
     ]
    }
   ],
   "source": [
    "# Calcular MSE para los datos de entrenamiento y prueba\n",
    "mse_train_1 = mean_squared_error(y_train, y_train_pred_1)\n",
    "mse_test_1 = mean_squared_error(y_test, y_test_pred_1)\n",
    "\n",
    "# Calcular RMSE para los datos de entrenamiento y prueba\n",
    "rmse_train_1 = np.sqrt(mse_train_1)\n",
    "rmse_test_1 = np.sqrt(mse_test_1)\n",
    "\n",
    "# Calcular MAE para los datos de entrenamiento y prueba\n",
    "mae_train_1 = mean_absolute_error(y_train, y_train_pred_1)\n",
    "mae_test_1 = mean_absolute_error(y_test, y_test_pred_1)\n",
    "\n",
    "print(f'Train MSE: {mse_train_1}, Test MSE: {mse_test_1}')\n",
    "print(f'Train RMSE: {rmse_train_1}, Test RMSE: {rmse_test_1}')\n",
    "print(f'Train MAE: {mae_train_1}, Test MAE: {mae_test_1}')\n",
    "\n",
    "# Calcular R^2 para los datos de entrenamiento y prueba\n",
    "r2_train_1 = r2_score(y_train, y_train_pred_1)\n",
    "r2_test_1 = r2_score(y_test, y_test_pred_1)\n",
    "\n",
    "# Calcular RSE para los datos de entrenamiento y prueba\n",
    "n_train = len(y_train)\n",
    "p_train = X_train.shape[1]  # número de características\n",
    "rse_train_1 = np.sqrt((1 / (n_train - p_train - 1)) * mse_train_1)\n",
    "\n",
    "n_test = len(y_test)\n",
    "p_test = X_test.shape[1]  # número de características\n",
    "rse_test_1 = np.sqrt((1 / (n_test - p_test - 1)) * mse_test_1)\n",
    "\n",
    "print(f'Train R^2: {r2_train_1}, Test R^2: {r2_test_1}')\n",
    "print(f'Train RSE: {rse_train_1}, Test RSE: {rse_test_1}')"
   ]
  },
  {
   "cell_type": "markdown",
   "id": "1e117731",
   "metadata": {},
   "source": [
    "# Positive = true"
   ]
  },
  {
   "cell_type": "code",
   "execution_count": 4,
   "id": "afc20d3a",
   "metadata": {
    "ExecuteTime": {
     "end_time": "2023-09-13T05:04:41.923542Z",
     "start_time": "2023-09-13T05:04:39.997524Z"
    }
   },
   "outputs": [],
   "source": [
    "clr_ranfor_2 = RandomForestRegressor(n_estimators=50, criterion='squared_error', max_depth=10, min_samples_split=2, min_samples_leaf=1, min_weight_fraction_leaf=0.0, max_features='sqrt',\n",
    "                                     max_leaf_nodes=None, min_impurity_decrease=0.0, bootstrap=True, oob_score=False, n_jobs=-1, random_state=43, verbose=0, warm_start=False, ccp_alpha=0.0, max_samples=None)\n",
    "clr_ranfor_2.fit(X_train, y_train)\n",
    "\n",
    "# Calcular las predicciones del modelo para los datos de entrenamiento y prueba\n",
    "y_train_pred_2 = clr_ranfor_2.predict(X_train)\n",
    "y_test_pred_2 = clr_ranfor_2.predict(X_test)"
   ]
  },
  {
   "cell_type": "code",
   "execution_count": 5,
   "id": "288e19b8",
   "metadata": {
    "ExecuteTime": {
     "end_time": "2023-09-13T05:04:41.930621Z",
     "start_time": "2023-09-13T05:04:41.924548Z"
    }
   },
   "outputs": [
    {
     "name": "stdout",
     "output_type": "stream",
     "text": [
      "Train MSE: 3635.15829637055, Test MSE: 3665.704971952626\n",
      "Train RMSE: 60.292273935974166, Test RMSE: 60.545065628444284\n",
      "Train MAE: 50.241161093204326, Test MAE: 50.28897791173385\n",
      "Train R^2: 0.29404844115300555, Test R^2: 0.28639068214747887\n",
      "Train RSE: nan, Test RSE: nan\n"
     ]
    },
    {
     "name": "stderr",
     "output_type": "stream",
     "text": [
      "C:\\Users\\Agus\\AppData\\Local\\Temp\\ipykernel_20724\\3997507001.py:24: RuntimeWarning: invalid value encountered in sqrt\n",
      "  rse_train_2 = np.sqrt((1 / (n_train - p_train - 1)) * mse_train_2)\n",
      "C:\\Users\\Agus\\AppData\\Local\\Temp\\ipykernel_20724\\3997507001.py:28: RuntimeWarning: invalid value encountered in sqrt\n",
      "  rse_test_2 = np.sqrt((1 / (n_test - p_test - 1)) * mse_test_2)\n"
     ]
    }
   ],
   "source": [
    "# Calcular MSE para los datos de entrenamiento y prueba\n",
    "mse_train_2 = mean_squared_error(y_train, y_train_pred_2)\n",
    "mse_test_2 = mean_squared_error(y_test, y_test_pred_2)\n",
    "\n",
    "# Calcular RMSE para los datos de entrenamiento y prueba\n",
    "rmse_train_2 = np.sqrt(mse_train_2)\n",
    "rmse_test_2 = np.sqrt(mse_test_2)\n",
    "\n",
    "# Calcular MAE para los datos de entrenamiento y prueba\n",
    "mae_train_2 = mean_absolute_error(y_train, y_train_pred_2)\n",
    "mae_test_2 = mean_absolute_error(y_test, y_test_pred_2)\n",
    "\n",
    "print(f'Train MSE: {mse_train_2}, Test MSE: {mse_test_2}')\n",
    "print(f'Train RMSE: {rmse_train_2}, Test RMSE: {rmse_test_2}')\n",
    "print(f'Train MAE: {mae_train_2}, Test MAE: {mae_test_2}')\n",
    "\n",
    "# Calcular R^2 para los datos de entrenamiento y prueba\n",
    "r2_train_2 = r2_score(y_train, y_train_pred_2)\n",
    "r2_test_2 = r2_score(y_test, y_test_pred_2)\n",
    "\n",
    "# Calcular RSE para los datos de entrenamiento y prueba\n",
    "n_train = len(y_train)\n",
    "p_train = X_train.shape[1]  # número de características\n",
    "rse_train_2 = np.sqrt((1 / (n_train - p_train - 1)) * mse_train_2)\n",
    "\n",
    "n_test = len(y_test)\n",
    "p_test = X_test.shape[1]  # número de características\n",
    "rse_test_2 = np.sqrt((1 / (n_test - p_test - 1)) * mse_test_2)\n",
    "\n",
    "print(f'Train R^2: {r2_train_2}, Test R^2: {r2_test_2}')\n",
    "print(f'Train RSE: {rse_train_2}, Test RSE: {rse_test_2}')"
   ]
  },
  {
   "cell_type": "markdown",
   "id": "2bd98ebd",
   "metadata": {},
   "source": [
    "# Copy_X = false"
   ]
  },
  {
   "cell_type": "code",
   "execution_count": 5,
   "id": "e470d1e2",
   "metadata": {
    "ExecuteTime": {
     "end_time": "2023-09-13T08:50:51.522710Z",
     "start_time": "2023-09-13T08:44:37.004255Z"
    }
   },
   "outputs": [
    {
     "name": "stderr",
     "output_type": "stream",
     "text": [
      "C:\\Dev\\Python311\\Lib\\site-packages\\sklearn\\ensemble\\_forest.py:413: FutureWarning: `max_features='auto'` has been deprecated in 1.1 and will be removed in 1.3. To keep the past behaviour, explicitly set `max_features=1.0` or remove this parameter as it is also the default value for RandomForestRegressors and ExtraTreesRegressors.\n",
      "  warn(\n"
     ]
    },
    {
     "ename": "KeyboardInterrupt",
     "evalue": "",
     "output_type": "error",
     "traceback": [
      "\u001b[1;31m---------------------------------------------------------------------------\u001b[0m",
      "\u001b[1;31mKeyboardInterrupt\u001b[0m                         Traceback (most recent call last)",
      "Cell \u001b[1;32mIn[5], line 4\u001b[0m\n\u001b[0;32m      1\u001b[0m clr_ranfor_3 \u001b[38;5;241m=\u001b[39m RandomForestRegressor(n_estimators\u001b[38;5;241m=\u001b[39m\u001b[38;5;241m200\u001b[39m, criterion\u001b[38;5;241m=\u001b[39m\u001b[38;5;124m'\u001b[39m\u001b[38;5;124msquared_error\u001b[39m\u001b[38;5;124m'\u001b[39m, max_depth\u001b[38;5;241m=\u001b[39m\u001b[38;5;28;01mNone\u001b[39;00m, min_samples_split\u001b[38;5;241m=\u001b[39m\u001b[38;5;241m2\u001b[39m, min_samples_leaf\u001b[38;5;241m=\u001b[39m\u001b[38;5;241m2\u001b[39m, min_weight_fraction_leaf\u001b[38;5;241m=\u001b[39m\u001b[38;5;241m0.0\u001b[39m, max_features\u001b[38;5;241m=\u001b[39m\u001b[38;5;124m'\u001b[39m\u001b[38;5;124mauto\u001b[39m\u001b[38;5;124m'\u001b[39m, max_leaf_nodes\u001b[38;5;241m=\u001b[39m\u001b[38;5;28;01mNone\u001b[39;00m, min_impurity_decrease\u001b[38;5;241m=\u001b[39m\u001b[38;5;241m0.0\u001b[39m, bootstrap\u001b[38;5;241m=\u001b[39m\u001b[38;5;28;01mTrue\u001b[39;00m, oob_score\u001b[38;5;241m=\u001b[39m\u001b[38;5;28;01mFalse\u001b[39;00m, n_jobs\u001b[38;5;241m=\u001b[39m\u001b[38;5;241m-\u001b[39m\u001b[38;5;241m1\u001b[39m, random_state\u001b[38;5;241m=\u001b[39m\u001b[38;5;241m43\u001b[39m, verbose\u001b[38;5;241m=\u001b[39m\u001b[38;5;241m0\u001b[39m, warm_start\u001b[38;5;241m=\u001b[39m\u001b[38;5;28;01mFalse\u001b[39;00m, ccp_alpha\u001b[38;5;241m=\u001b[39m\u001b[38;5;241m0.0\u001b[39m, max_samples\u001b[38;5;241m=\u001b[39m\u001b[38;5;28;01mNone\u001b[39;00m)\n\u001b[1;32m----> 4\u001b[0m \u001b[43mclr_ranfor_3\u001b[49m\u001b[38;5;241;43m.\u001b[39;49m\u001b[43mfit\u001b[49m\u001b[43m(\u001b[49m\u001b[43mX_train\u001b[49m\u001b[43m,\u001b[49m\u001b[43m \u001b[49m\u001b[43my_train\u001b[49m\u001b[43m)\u001b[49m\n\u001b[0;32m      6\u001b[0m \u001b[38;5;66;03m# Calcular las predicciones del modelo para los datos de entrenamiento y prueba\u001b[39;00m\n\u001b[0;32m      7\u001b[0m y_train_pred_3 \u001b[38;5;241m=\u001b[39m clr_ranfor_3\u001b[38;5;241m.\u001b[39mpredict(X_train)\n",
      "File \u001b[1;32mC:\\Dev\\Python311\\Lib\\site-packages\\sklearn\\ensemble\\_forest.py:473\u001b[0m, in \u001b[0;36mBaseForest.fit\u001b[1;34m(self, X, y, sample_weight)\u001b[0m\n\u001b[0;32m    462\u001b[0m trees \u001b[38;5;241m=\u001b[39m [\n\u001b[0;32m    463\u001b[0m     \u001b[38;5;28mself\u001b[39m\u001b[38;5;241m.\u001b[39m_make_estimator(append\u001b[38;5;241m=\u001b[39m\u001b[38;5;28;01mFalse\u001b[39;00m, random_state\u001b[38;5;241m=\u001b[39mrandom_state)\n\u001b[0;32m    464\u001b[0m     \u001b[38;5;28;01mfor\u001b[39;00m i \u001b[38;5;129;01min\u001b[39;00m \u001b[38;5;28mrange\u001b[39m(n_more_estimators)\n\u001b[0;32m    465\u001b[0m ]\n\u001b[0;32m    467\u001b[0m \u001b[38;5;66;03m# Parallel loop: we prefer the threading backend as the Cython code\u001b[39;00m\n\u001b[0;32m    468\u001b[0m \u001b[38;5;66;03m# for fitting the trees is internally releasing the Python GIL\u001b[39;00m\n\u001b[0;32m    469\u001b[0m \u001b[38;5;66;03m# making threading more efficient than multiprocessing in\u001b[39;00m\n\u001b[0;32m    470\u001b[0m \u001b[38;5;66;03m# that case. However, for joblib 0.12+ we respect any\u001b[39;00m\n\u001b[0;32m    471\u001b[0m \u001b[38;5;66;03m# parallel_backend contexts set at a higher level,\u001b[39;00m\n\u001b[0;32m    472\u001b[0m \u001b[38;5;66;03m# since correctness does not rely on using threads.\u001b[39;00m\n\u001b[1;32m--> 473\u001b[0m trees \u001b[38;5;241m=\u001b[39m \u001b[43mParallel\u001b[49m\u001b[43m(\u001b[49m\n\u001b[0;32m    474\u001b[0m \u001b[43m    \u001b[49m\u001b[43mn_jobs\u001b[49m\u001b[38;5;241;43m=\u001b[39;49m\u001b[38;5;28;43mself\u001b[39;49m\u001b[38;5;241;43m.\u001b[39;49m\u001b[43mn_jobs\u001b[49m\u001b[43m,\u001b[49m\n\u001b[0;32m    475\u001b[0m \u001b[43m    \u001b[49m\u001b[43mverbose\u001b[49m\u001b[38;5;241;43m=\u001b[39;49m\u001b[38;5;28;43mself\u001b[39;49m\u001b[38;5;241;43m.\u001b[39;49m\u001b[43mverbose\u001b[49m\u001b[43m,\u001b[49m\n\u001b[0;32m    476\u001b[0m \u001b[43m    \u001b[49m\u001b[43mprefer\u001b[49m\u001b[38;5;241;43m=\u001b[39;49m\u001b[38;5;124;43m\"\u001b[39;49m\u001b[38;5;124;43mthreads\u001b[39;49m\u001b[38;5;124;43m\"\u001b[39;49m\u001b[43m,\u001b[49m\n\u001b[0;32m    477\u001b[0m \u001b[43m\u001b[49m\u001b[43m)\u001b[49m\u001b[43m(\u001b[49m\n\u001b[0;32m    478\u001b[0m \u001b[43m    \u001b[49m\u001b[43mdelayed\u001b[49m\u001b[43m(\u001b[49m\u001b[43m_parallel_build_trees\u001b[49m\u001b[43m)\u001b[49m\u001b[43m(\u001b[49m\n\u001b[0;32m    479\u001b[0m \u001b[43m        \u001b[49m\u001b[43mt\u001b[49m\u001b[43m,\u001b[49m\n\u001b[0;32m    480\u001b[0m \u001b[43m        \u001b[49m\u001b[38;5;28;43mself\u001b[39;49m\u001b[38;5;241;43m.\u001b[39;49m\u001b[43mbootstrap\u001b[49m\u001b[43m,\u001b[49m\n\u001b[0;32m    481\u001b[0m \u001b[43m        \u001b[49m\u001b[43mX\u001b[49m\u001b[43m,\u001b[49m\n\u001b[0;32m    482\u001b[0m \u001b[43m        \u001b[49m\u001b[43my\u001b[49m\u001b[43m,\u001b[49m\n\u001b[0;32m    483\u001b[0m \u001b[43m        \u001b[49m\u001b[43msample_weight\u001b[49m\u001b[43m,\u001b[49m\n\u001b[0;32m    484\u001b[0m \u001b[43m        \u001b[49m\u001b[43mi\u001b[49m\u001b[43m,\u001b[49m\n\u001b[0;32m    485\u001b[0m \u001b[43m        \u001b[49m\u001b[38;5;28;43mlen\u001b[39;49m\u001b[43m(\u001b[49m\u001b[43mtrees\u001b[49m\u001b[43m)\u001b[49m\u001b[43m,\u001b[49m\n\u001b[0;32m    486\u001b[0m \u001b[43m        \u001b[49m\u001b[43mverbose\u001b[49m\u001b[38;5;241;43m=\u001b[39;49m\u001b[38;5;28;43mself\u001b[39;49m\u001b[38;5;241;43m.\u001b[39;49m\u001b[43mverbose\u001b[49m\u001b[43m,\u001b[49m\n\u001b[0;32m    487\u001b[0m \u001b[43m        \u001b[49m\u001b[43mclass_weight\u001b[49m\u001b[38;5;241;43m=\u001b[39;49m\u001b[38;5;28;43mself\u001b[39;49m\u001b[38;5;241;43m.\u001b[39;49m\u001b[43mclass_weight\u001b[49m\u001b[43m,\u001b[49m\n\u001b[0;32m    488\u001b[0m \u001b[43m        \u001b[49m\u001b[43mn_samples_bootstrap\u001b[49m\u001b[38;5;241;43m=\u001b[39;49m\u001b[43mn_samples_bootstrap\u001b[49m\u001b[43m,\u001b[49m\n\u001b[0;32m    489\u001b[0m \u001b[43m    \u001b[49m\u001b[43m)\u001b[49m\n\u001b[0;32m    490\u001b[0m \u001b[43m    \u001b[49m\u001b[38;5;28;43;01mfor\u001b[39;49;00m\u001b[43m \u001b[49m\u001b[43mi\u001b[49m\u001b[43m,\u001b[49m\u001b[43m \u001b[49m\u001b[43mt\u001b[49m\u001b[43m \u001b[49m\u001b[38;5;129;43;01min\u001b[39;49;00m\u001b[43m \u001b[49m\u001b[38;5;28;43menumerate\u001b[39;49m\u001b[43m(\u001b[49m\u001b[43mtrees\u001b[49m\u001b[43m)\u001b[49m\n\u001b[0;32m    491\u001b[0m \u001b[43m\u001b[49m\u001b[43m)\u001b[49m\n\u001b[0;32m    493\u001b[0m \u001b[38;5;66;03m# Collect newly grown trees\u001b[39;00m\n\u001b[0;32m    494\u001b[0m \u001b[38;5;28mself\u001b[39m\u001b[38;5;241m.\u001b[39mestimators_\u001b[38;5;241m.\u001b[39mextend(trees)\n",
      "File \u001b[1;32mC:\\Dev\\Python311\\Lib\\site-packages\\sklearn\\utils\\parallel.py:63\u001b[0m, in \u001b[0;36mParallel.__call__\u001b[1;34m(self, iterable)\u001b[0m\n\u001b[0;32m     58\u001b[0m config \u001b[38;5;241m=\u001b[39m get_config()\n\u001b[0;32m     59\u001b[0m iterable_with_config \u001b[38;5;241m=\u001b[39m (\n\u001b[0;32m     60\u001b[0m     (_with_config(delayed_func, config), args, kwargs)\n\u001b[0;32m     61\u001b[0m     \u001b[38;5;28;01mfor\u001b[39;00m delayed_func, args, kwargs \u001b[38;5;129;01min\u001b[39;00m iterable\n\u001b[0;32m     62\u001b[0m )\n\u001b[1;32m---> 63\u001b[0m \u001b[38;5;28;01mreturn\u001b[39;00m \u001b[38;5;28;43msuper\u001b[39;49m\u001b[43m(\u001b[49m\u001b[43m)\u001b[49m\u001b[38;5;241;43m.\u001b[39;49m\u001b[38;5;21;43m__call__\u001b[39;49m\u001b[43m(\u001b[49m\u001b[43miterable_with_config\u001b[49m\u001b[43m)\u001b[49m\n",
      "File \u001b[1;32mC:\\Dev\\Python311\\Lib\\site-packages\\joblib\\parallel.py:1098\u001b[0m, in \u001b[0;36mParallel.__call__\u001b[1;34m(self, iterable)\u001b[0m\n\u001b[0;32m   1095\u001b[0m     \u001b[38;5;28mself\u001b[39m\u001b[38;5;241m.\u001b[39m_iterating \u001b[38;5;241m=\u001b[39m \u001b[38;5;28;01mFalse\u001b[39;00m\n\u001b[0;32m   1097\u001b[0m \u001b[38;5;28;01mwith\u001b[39;00m \u001b[38;5;28mself\u001b[39m\u001b[38;5;241m.\u001b[39m_backend\u001b[38;5;241m.\u001b[39mretrieval_context():\n\u001b[1;32m-> 1098\u001b[0m     \u001b[38;5;28;43mself\u001b[39;49m\u001b[38;5;241;43m.\u001b[39;49m\u001b[43mretrieve\u001b[49m\u001b[43m(\u001b[49m\u001b[43m)\u001b[49m\n\u001b[0;32m   1099\u001b[0m \u001b[38;5;66;03m# Make sure that we get a last message telling us we are done\u001b[39;00m\n\u001b[0;32m   1100\u001b[0m elapsed_time \u001b[38;5;241m=\u001b[39m time\u001b[38;5;241m.\u001b[39mtime() \u001b[38;5;241m-\u001b[39m \u001b[38;5;28mself\u001b[39m\u001b[38;5;241m.\u001b[39m_start_time\n",
      "File \u001b[1;32mC:\\Dev\\Python311\\Lib\\site-packages\\joblib\\parallel.py:975\u001b[0m, in \u001b[0;36mParallel.retrieve\u001b[1;34m(self)\u001b[0m\n\u001b[0;32m    973\u001b[0m \u001b[38;5;28;01mtry\u001b[39;00m:\n\u001b[0;32m    974\u001b[0m     \u001b[38;5;28;01mif\u001b[39;00m \u001b[38;5;28mgetattr\u001b[39m(\u001b[38;5;28mself\u001b[39m\u001b[38;5;241m.\u001b[39m_backend, \u001b[38;5;124m'\u001b[39m\u001b[38;5;124msupports_timeout\u001b[39m\u001b[38;5;124m'\u001b[39m, \u001b[38;5;28;01mFalse\u001b[39;00m):\n\u001b[1;32m--> 975\u001b[0m         \u001b[38;5;28mself\u001b[39m\u001b[38;5;241m.\u001b[39m_output\u001b[38;5;241m.\u001b[39mextend(\u001b[43mjob\u001b[49m\u001b[38;5;241;43m.\u001b[39;49m\u001b[43mget\u001b[49m\u001b[43m(\u001b[49m\u001b[43mtimeout\u001b[49m\u001b[38;5;241;43m=\u001b[39;49m\u001b[38;5;28;43mself\u001b[39;49m\u001b[38;5;241;43m.\u001b[39;49m\u001b[43mtimeout\u001b[49m\u001b[43m)\u001b[49m)\n\u001b[0;32m    976\u001b[0m     \u001b[38;5;28;01melse\u001b[39;00m:\n\u001b[0;32m    977\u001b[0m         \u001b[38;5;28mself\u001b[39m\u001b[38;5;241m.\u001b[39m_output\u001b[38;5;241m.\u001b[39mextend(job\u001b[38;5;241m.\u001b[39mget())\n",
      "File \u001b[1;32mC:\\Dev\\Python311\\Lib\\multiprocessing\\pool.py:768\u001b[0m, in \u001b[0;36mApplyResult.get\u001b[1;34m(self, timeout)\u001b[0m\n\u001b[0;32m    767\u001b[0m \u001b[38;5;28;01mdef\u001b[39;00m \u001b[38;5;21mget\u001b[39m(\u001b[38;5;28mself\u001b[39m, timeout\u001b[38;5;241m=\u001b[39m\u001b[38;5;28;01mNone\u001b[39;00m):\n\u001b[1;32m--> 768\u001b[0m     \u001b[38;5;28;43mself\u001b[39;49m\u001b[38;5;241;43m.\u001b[39;49m\u001b[43mwait\u001b[49m\u001b[43m(\u001b[49m\u001b[43mtimeout\u001b[49m\u001b[43m)\u001b[49m\n\u001b[0;32m    769\u001b[0m     \u001b[38;5;28;01mif\u001b[39;00m \u001b[38;5;129;01mnot\u001b[39;00m \u001b[38;5;28mself\u001b[39m\u001b[38;5;241m.\u001b[39mready():\n\u001b[0;32m    770\u001b[0m         \u001b[38;5;28;01mraise\u001b[39;00m \u001b[38;5;167;01mTimeoutError\u001b[39;00m\n",
      "File \u001b[1;32mC:\\Dev\\Python311\\Lib\\multiprocessing\\pool.py:765\u001b[0m, in \u001b[0;36mApplyResult.wait\u001b[1;34m(self, timeout)\u001b[0m\n\u001b[0;32m    764\u001b[0m \u001b[38;5;28;01mdef\u001b[39;00m \u001b[38;5;21mwait\u001b[39m(\u001b[38;5;28mself\u001b[39m, timeout\u001b[38;5;241m=\u001b[39m\u001b[38;5;28;01mNone\u001b[39;00m):\n\u001b[1;32m--> 765\u001b[0m     \u001b[38;5;28;43mself\u001b[39;49m\u001b[38;5;241;43m.\u001b[39;49m\u001b[43m_event\u001b[49m\u001b[38;5;241;43m.\u001b[39;49m\u001b[43mwait\u001b[49m\u001b[43m(\u001b[49m\u001b[43mtimeout\u001b[49m\u001b[43m)\u001b[49m\n",
      "File \u001b[1;32mC:\\Dev\\Python311\\Lib\\threading.py:622\u001b[0m, in \u001b[0;36mEvent.wait\u001b[1;34m(self, timeout)\u001b[0m\n\u001b[0;32m    620\u001b[0m signaled \u001b[38;5;241m=\u001b[39m \u001b[38;5;28mself\u001b[39m\u001b[38;5;241m.\u001b[39m_flag\n\u001b[0;32m    621\u001b[0m \u001b[38;5;28;01mif\u001b[39;00m \u001b[38;5;129;01mnot\u001b[39;00m signaled:\n\u001b[1;32m--> 622\u001b[0m     signaled \u001b[38;5;241m=\u001b[39m \u001b[38;5;28;43mself\u001b[39;49m\u001b[38;5;241;43m.\u001b[39;49m\u001b[43m_cond\u001b[49m\u001b[38;5;241;43m.\u001b[39;49m\u001b[43mwait\u001b[49m\u001b[43m(\u001b[49m\u001b[43mtimeout\u001b[49m\u001b[43m)\u001b[49m\n\u001b[0;32m    623\u001b[0m \u001b[38;5;28;01mreturn\u001b[39;00m signaled\n",
      "File \u001b[1;32mC:\\Dev\\Python311\\Lib\\threading.py:320\u001b[0m, in \u001b[0;36mCondition.wait\u001b[1;34m(self, timeout)\u001b[0m\n\u001b[0;32m    318\u001b[0m \u001b[38;5;28;01mtry\u001b[39;00m:    \u001b[38;5;66;03m# restore state no matter what (e.g., KeyboardInterrupt)\u001b[39;00m\n\u001b[0;32m    319\u001b[0m     \u001b[38;5;28;01mif\u001b[39;00m timeout \u001b[38;5;129;01mis\u001b[39;00m \u001b[38;5;28;01mNone\u001b[39;00m:\n\u001b[1;32m--> 320\u001b[0m         \u001b[43mwaiter\u001b[49m\u001b[38;5;241;43m.\u001b[39;49m\u001b[43macquire\u001b[49m\u001b[43m(\u001b[49m\u001b[43m)\u001b[49m\n\u001b[0;32m    321\u001b[0m         gotit \u001b[38;5;241m=\u001b[39m \u001b[38;5;28;01mTrue\u001b[39;00m\n\u001b[0;32m    322\u001b[0m     \u001b[38;5;28;01melse\u001b[39;00m:\n",
      "\u001b[1;31mKeyboardInterrupt\u001b[0m: "
     ]
    }
   ],
   "source": [
    "clr_ranfor_3 = RandomForestRegressor(n_estimators=200, criterion='squared_error', max_depth=None, min_samples_split=2, min_samples_leaf=2, min_weight_fraction_leaf=0.0, max_features='auto', max_leaf_nodes=None, min_impurity_decrease=0.0, bootstrap=True, oob_score=False, n_jobs=-1, random_state=43, verbose=0, warm_start=False, ccp_alpha=0.0, max_samples=None)\n",
    "\n",
    "\n",
    "clr_ranfor_3.fit(X_train, y_train)\n",
    "\n",
    "# Calcular las predicciones del modelo para los datos de entrenamiento y prueba\n",
    "y_train_pred_3 = clr_ranfor_3.predict(X_train)\n",
    "y_test_pred_3 = clr_ranfor_3.predict(X_test)"
   ]
  },
  {
   "cell_type": "code",
   "execution_count": 3,
   "id": "d04ac268",
   "metadata": {
    "ExecuteTime": {
     "end_time": "2023-09-13T08:42:32.563495Z",
     "start_time": "2023-09-13T08:42:32.555344Z"
    }
   },
   "outputs": [
    {
     "name": "stdout",
     "output_type": "stream",
     "text": [
      "Train MSE: 2640.3717418787255, Test MSE: 2770.4212017537416\n",
      "Train RMSE: 51.384547695574064, Test RMSE: 52.634790792343246\n",
      "Train MAE: 40.285407818818705, Test MAE: 40.98690833957852\n",
      "Train R^2: 0.4872370347734546, Test R^2: 0.46067716876447007\n",
      "Train RSE: nan, Test RSE: nan\n"
     ]
    },
    {
     "name": "stderr",
     "output_type": "stream",
     "text": [
      "C:\\Users\\Agus\\AppData\\Local\\Temp\\ipykernel_3676\\3275779165.py:24: RuntimeWarning: invalid value encountered in sqrt\n",
      "  rse_train_3 = np.sqrt((1 / (n_train - p_train - 1)) * mse_train_3)\n",
      "C:\\Users\\Agus\\AppData\\Local\\Temp\\ipykernel_3676\\3275779165.py:28: RuntimeWarning: invalid value encountered in sqrt\n",
      "  rse_test_3 = np.sqrt((1 / (n_test - p_test - 1)) * mse_test_3)\n"
     ]
    }
   ],
   "source": [
    "# Calcular MSE para los datos de entrenamiento y prueba\n",
    "mse_train_3 = mean_squared_error(y_train, y_train_pred_3)\n",
    "mse_test_3 = mean_squared_error(y_test, y_test_pred_3)\n",
    "\n",
    "# Calcular RMSE para los datos de entrenamiento y prueba\n",
    "rmse_train_3 = np.sqrt(mse_train_3)\n",
    "rmse_test_3 = np.sqrt(mse_test_3)\n",
    "\n",
    "# Calcular MAE para los datos de entrenamiento y prueba\n",
    "mae_train_3 = mean_absolute_error(y_train, y_train_pred_3)\n",
    "mae_test_3 = mean_absolute_error(y_test, y_test_pred_3)\n",
    "\n",
    "print(f'Train MSE: {mse_train_3}, Test MSE: {mse_test_3}')\n",
    "print(f'Train RMSE: {rmse_train_3}, Test RMSE: {rmse_test_3}')\n",
    "print(f'Train MAE: {mae_train_3}, Test MAE: {mae_test_3}')\n",
    "\n",
    "# Calcular R^2 para los datos de entrenamiento y prueba\n",
    "r2_train_3 = r2_score(y_train, y_train_pred_3)\n",
    "r2_test_3 = r2_score(y_test, y_test_pred_3)\n",
    "\n",
    "# Calcular RSE para los datos de entrenamiento y prueba\n",
    "n_train = len(y_train)\n",
    "p_train = X_train.shape[1]  # número de características\n",
    "rse_train_3 = np.sqrt((1 / (n_train - p_train - 1)) * mse_train_3)\n",
    "\n",
    "n_test = len(y_test)\n",
    "p_test = X_test.shape[1]  # número de características\n",
    "rse_test_3 = np.sqrt((1 / (n_test - p_test - 1)) * mse_test_3)\n",
    "\n",
    "print(f'Train R^2: {r2_train_3}, Test R^2: {r2_test_3}')\n",
    "print(f'Train RSE: {rse_train_3}, Test RSE: {rse_test_3}')"
   ]
  },
  {
   "cell_type": "markdown",
   "id": "6bc3f2ee",
   "metadata": {},
   "source": [
    "# Copy_x = False, Positive = True"
   ]
  },
  {
   "cell_type": "code",
   "execution_count": 8,
   "id": "a7cafcaa",
   "metadata": {
    "ExecuteTime": {
     "end_time": "2023-09-13T05:04:54.901970Z",
     "start_time": "2023-09-13T05:04:47.555938Z"
    }
   },
   "outputs": [],
   "source": [
    "clr_ranfor_4 = RandomForestRegressor(n_estimators=50, criterion='squared_error', max_depth=None, min_samples_split=2, min_samples_leaf=1, min_weight_fraction_leaf=0.0, max_features='log2',\n",
    "                                     max_leaf_nodes=None, min_impurity_decrease=0.0, bootstrap=True, oob_score=False, n_jobs=-1, random_state=43, verbose=0, warm_start=False, ccp_alpha=0.0, max_samples=None)\n",
    "clr_ranfor_4.fit(X_train, y_train)\n",
    "\n",
    "# Calcular las predicciones del modelo para los datos de entrenamiento y prueba\n",
    "y_train_pred_4 = clr_ranfor_4.predict(X_train)\n",
    "y_test_pred_4 = clr_ranfor_4.predict(X_test)"
   ]
  },
  {
   "cell_type": "code",
   "execution_count": 9,
   "id": "972a28b8",
   "metadata": {
    "ExecuteTime": {
     "end_time": "2023-09-13T05:04:54.909769Z",
     "start_time": "2023-09-13T05:04:54.902976Z"
    }
   },
   "outputs": [
    {
     "name": "stdout",
     "output_type": "stream",
     "text": [
      "Train MSE: 528.2966944836226, Test MSE: 2402.4252505858703\n",
      "Train RMSE: 22.98470566449835, Test RMSE: 49.014541215703225\n",
      "Train MAE: 14.139188085256196, Test MAE: 32.50295894633341\n",
      "Train R^2: 0.8974042271070303, Test R^2: 0.5323155962142141\n",
      "Train RSE: nan, Test RSE: nan\n"
     ]
    },
    {
     "name": "stderr",
     "output_type": "stream",
     "text": [
      "C:\\Users\\Agus\\AppData\\Local\\Temp\\ipykernel_20724\\2087279012.py:24: RuntimeWarning: invalid value encountered in sqrt\n",
      "  rse_train_4 = np.sqrt((1 / (n_train - p_train - 1)) * mse_train_4)\n",
      "C:\\Users\\Agus\\AppData\\Local\\Temp\\ipykernel_20724\\2087279012.py:28: RuntimeWarning: invalid value encountered in sqrt\n",
      "  rse_test_4 = np.sqrt((1 / (n_test - p_test - 1)) * mse_test_4)\n"
     ]
    }
   ],
   "source": [
    "# Calcular MSE para los datos de entrenamiento y prueba\n",
    "mse_train_4 = mean_squared_error(y_train, y_train_pred_4)\n",
    "mse_test_4 = mean_squared_error(y_test, y_test_pred_4)\n",
    "\n",
    "# Calcular RMSE para los datos de entrenamiento y prueba\n",
    "rmse_train_4 = np.sqrt(mse_train_4)\n",
    "rmse_test_4 = np.sqrt(mse_test_4)\n",
    "\n",
    "# Calcular MAE para los datos de entrenamiento y prueba\n",
    "mae_train_4 = mean_absolute_error(y_train, y_train_pred_4)\n",
    "mae_test_4 = mean_absolute_error(y_test, y_test_pred_4)\n",
    "\n",
    "print(f'Train MSE: {mse_train_4}, Test MSE: {mse_test_4}')\n",
    "print(f'Train RMSE: {rmse_train_4}, Test RMSE: {rmse_test_4}')\n",
    "print(f'Train MAE: {mae_train_4}, Test MAE: {mae_test_4}')\n",
    "\n",
    "# Calcular R^2 para los datos de entrenamiento y prueba\n",
    "r2_train_4 = r2_score(y_train, y_train_pred_4)\n",
    "r2_test_4 = r2_score(y_test, y_test_pred_4)\n",
    "\n",
    "# Calcular RSE para los datos de entrenamiento y prueba\n",
    "n_train = len(y_train)\n",
    "p_train = X_train.shape[1]  # número de características\n",
    "rse_train_4 = np.sqrt((1 / (n_train - p_train - 1)) * mse_train_4)\n",
    "\n",
    "n_test = len(y_test)\n",
    "p_test = X_test.shape[1]  # número de características\n",
    "rse_test_4 = np.sqrt((1 / (n_test - p_test - 1)) * mse_test_4)\n",
    "\n",
    "print(f'Train R^2: {r2_train_4}, Test R^2: {r2_test_4}')\n",
    "print(f'Train RSE: {rse_train_4}, Test RSE: {rse_test_4}')"
   ]
  },
  {
   "cell_type": "markdown",
   "id": "6e5affca",
   "metadata": {},
   "source": [
    "# Fit_intercept = false"
   ]
  },
  {
   "cell_type": "code",
   "execution_count": 10,
   "id": "5b318f90",
   "metadata": {
    "ExecuteTime": {
     "end_time": "2023-09-13T05:05:08.643405Z",
     "start_time": "2023-09-13T05:04:54.910776Z"
    }
   },
   "outputs": [],
   "source": [
    "clr_ranfor_5 = RandomForestRegressor(n_estimators=100, criterion='squared_error', max_depth=None, min_samples_split=2, min_samples_leaf=1, min_weight_fraction_leaf=0.0, max_features='log2', max_leaf_nodes=None, min_impurity_decrease=0.0,\n",
    "                                     bootstrap=True, oob_score=False, n_jobs=-1,\n",
    "                                     random_state=43,\n",
    "                                     verbose=0,\n",
    "                                     warm_start=False,\n",
    "                                     ccp_alpha=0.0,\n",
    "                                     max_samples=None)\n",
    "clr_ranfor_5.fit(X_train, y_train)\n",
    "\n",
    "# Calcular las predicciones del modelo para los datos de entrenamiento y prueba\n",
    "y_train_pred_5 = clr_ranfor_5.predict(X_train)\n",
    "y_test_pred_5 = clr_ranfor_5.predict(X_test)"
   ]
  },
  {
   "cell_type": "code",
   "execution_count": 11,
   "id": "194c6570",
   "metadata": {
    "ExecuteTime": {
     "end_time": "2023-09-13T05:05:08.651198Z",
     "start_time": "2023-09-13T05:05:08.644413Z"
    }
   },
   "outputs": [
    {
     "name": "stdout",
     "output_type": "stream",
     "text": [
      "Train MSE: 517.3709659594666, Test MSE: 2362.5066019952837\n",
      "Train RMSE: 22.74579007112012, Test RMSE: 48.60562315201075\n",
      "Train MAE: 14.076228709369213, Test MAE: 32.29094054464128\n",
      "Train R^2: 0.8995260150607675, Test R^2: 0.54008663065596\n",
      "Train RSE: nan, Test RSE: nan\n"
     ]
    },
    {
     "name": "stderr",
     "output_type": "stream",
     "text": [
      "C:\\Users\\Agus\\AppData\\Local\\Temp\\ipykernel_20724\\3866159119.py:24: RuntimeWarning: invalid value encountered in sqrt\n",
      "  rse_train_5 = np.sqrt((1 / (n_train - p_train - 1)) * mse_train_5)\n",
      "C:\\Users\\Agus\\AppData\\Local\\Temp\\ipykernel_20724\\3866159119.py:28: RuntimeWarning: invalid value encountered in sqrt\n",
      "  rse_test_5 = np.sqrt((1 / (n_test - p_test - 1)) * mse_test_5)\n"
     ]
    }
   ],
   "source": [
    "# Calcular MSE para los datos de entrenamiento y prueba\n",
    "mse_train_5 = mean_squared_error(y_train, y_train_pred_5)\n",
    "mse_test_5 = mean_squared_error(y_test, y_test_pred_5)\n",
    "\n",
    "# Calcular RMSE para los datos de entrenamiento y prueba\n",
    "rmse_train_5 = np.sqrt(mse_train_5)\n",
    "rmse_test_5 = np.sqrt(mse_test_5)\n",
    "\n",
    "# Calcular MAE para los datos de entrenamiento y prueba\n",
    "mae_train_5 = mean_absolute_error(y_train, y_train_pred_5)\n",
    "mae_test_5 = mean_absolute_error(y_test, y_test_pred_5)\n",
    "\n",
    "print(f'Train MSE: {mse_train_5}, Test MSE: {mse_test_5}')\n",
    "print(f'Train RMSE: {rmse_train_5}, Test RMSE: {rmse_test_5}')\n",
    "print(f'Train MAE: {mae_train_5}, Test MAE: {mae_test_5}')\n",
    "\n",
    "# Calcular R^2 para los datos de entrenamiento y prueba\n",
    "r2_train_5 = r2_score(y_train, y_train_pred_5)\n",
    "r2_test_5 = r2_score(y_test, y_test_pred_5)\n",
    "\n",
    "# Calcular RSE para los datos de entrenamiento y prueba\n",
    "n_train = len(y_train)\n",
    "p_train = X_train.shape[1]  # número de características\n",
    "rse_train_5 = np.sqrt((1 / (n_train - p_train - 1)) * mse_train_5)\n",
    "\n",
    "n_test = len(y_test)\n",
    "p_test = X_test.shape[1]  # número de características\n",
    "rse_test_5 = np.sqrt((1 / (n_test - p_test - 1)) * mse_test_5)\n",
    "\n",
    "print(f'Train R^2: {r2_train_5}, Test R^2: {r2_test_5}')\n",
    "print(f'Train RSE: {rse_train_5}, Test RSE: {rse_test_5}')"
   ]
  },
  {
   "cell_type": "markdown",
   "id": "4e12b849",
   "metadata": {},
   "source": [
    "# Fit_intercept = false, positive = true"
   ]
  },
  {
   "cell_type": "code",
   "execution_count": 12,
   "id": "136d8d41",
   "metadata": {
    "ExecuteTime": {
     "end_time": "2023-09-13T05:15:52.413464Z",
     "start_time": "2023-09-13T05:05:08.653217Z"
    }
   },
   "outputs": [
    {
     "name": "stderr",
     "output_type": "stream",
     "text": [
      "C:\\Dev\\Python311\\Lib\\site-packages\\sklearn\\ensemble\\_forest.py:413: FutureWarning: `max_features='auto'` has been deprecated in 1.1 and will be removed in 1.3. To keep the past behaviour, explicitly set `max_features=1.0` or remove this parameter as it is also the default value for RandomForestRegressors and ExtraTreesRegressors.\n",
      "  warn(\n"
     ]
    }
   ],
   "source": [
    "clr_ranfor_6 = RandomForestRegressor(n_estimators=50, criterion='squared_error', max_depth=None, min_samples_split=2, min_samples_leaf=1, min_weight_fraction_leaf=0.0, max_features='auto', max_leaf_nodes=None, min_impurity_decrease=0.0,\n",
    "                                     bootstrap=True, oob_score=False, n_jobs=-1,\n",
    "                                     random_state=43,\n",
    "                                     verbose=0,\n",
    "                                     warm_start=False,\n",
    "                                     ccp_alpha=0.0,\n",
    "                                     max_samples=None)\n",
    "clr_ranfor_6.fit(X_train, y_train)\n",
    "\n",
    "# Calcular las predicciones del modelo para los datos de entrenamiento y prueba\n",
    "y_train_pred_6 = clr_ranfor_6.predict(X_train)\n",
    "y_test_pred_6 = clr_ranfor_6.predict(X_test)"
   ]
  },
  {
   "cell_type": "code",
   "execution_count": 13,
   "id": "4f7843c1",
   "metadata": {
    "ExecuteTime": {
     "end_time": "2023-09-13T05:15:52.421717Z",
     "start_time": "2023-09-13T05:15:52.413464Z"
    }
   },
   "outputs": [
    {
     "name": "stdout",
     "output_type": "stream",
     "text": [
      "Train MSE: 540.564351034336, Test MSE: 2427.1338914154294\n",
      "Train RMSE: 23.250039807155943, Test RMSE: 49.26595062936906\n",
      "Train MAE: 14.10110562888418, Test MAE: 32.077852212863256\n",
      "Train R^2: 0.8950218353212248, Test R^2: 0.5275055210820486\n",
      "Train RSE: nan, Test RSE: nan\n"
     ]
    },
    {
     "name": "stderr",
     "output_type": "stream",
     "text": [
      "C:\\Users\\Agus\\AppData\\Local\\Temp\\ipykernel_20724\\365039454.py:24: RuntimeWarning: invalid value encountered in sqrt\n",
      "  rse_train_6 = np.sqrt((1 / (n_train - p_train - 1)) * mse_train_6)\n",
      "C:\\Users\\Agus\\AppData\\Local\\Temp\\ipykernel_20724\\365039454.py:28: RuntimeWarning: invalid value encountered in sqrt\n",
      "  rse_test_6 = np.sqrt((1 / (n_test - p_test - 1)) * mse_test_6)\n"
     ]
    }
   ],
   "source": [
    "# Calcular MSE para los datos de entrenamiento y prueba\n",
    "mse_train_6 = mean_squared_error(y_train, y_train_pred_6)\n",
    "mse_test_6 = mean_squared_error(y_test, y_test_pred_6)\n",
    "\n",
    "# Calcular RMSE para los datos de entrenamiento y prueba\n",
    "rmse_train_6 = np.sqrt(mse_train_6)\n",
    "rmse_test_6 = np.sqrt(mse_test_6)\n",
    "\n",
    "# Calcular MAE para los datos de entrenamiento y prueba\n",
    "mae_train_6 = mean_absolute_error(y_train, y_train_pred_6)\n",
    "mae_test_6 = mean_absolute_error(y_test, y_test_pred_6)\n",
    "\n",
    "print(f'Train MSE: {mse_train_6}, Test MSE: {mse_test_6}')\n",
    "print(f'Train RMSE: {rmse_train_6}, Test RMSE: {rmse_test_6}')\n",
    "print(f'Train MAE: {mae_train_6}, Test MAE: {mae_test_6}')\n",
    "\n",
    "# Calcular R^2 para los datos de entrenamiento y prueba\n",
    "r2_train_6 = r2_score(y_train, y_train_pred_6)\n",
    "r2_test_6 = r2_score(y_test, y_test_pred_6)\n",
    "\n",
    "# Calcular RSE para los datos de entrenamiento y prueba\n",
    "n_train = len(y_train)\n",
    "p_train = X_train.shape[1]  # número de características\n",
    "rse_train_6 = np.sqrt((1 / (n_train - p_train - 1)) * mse_train_6)\n",
    "\n",
    "n_test = len(y_test)\n",
    "p_test = X_test.shape[1]  # número de características\n",
    "rse_test_6 = np.sqrt((1 / (n_test - p_test - 1)) * mse_test_6)\n",
    "\n",
    "print(f'Train R^2: {r2_train_6}, Test R^2: {r2_test_6}')\n",
    "print(f'Train RSE: {rse_train_6}, Test RSE: {rse_test_6}')"
   ]
  },
  {
   "cell_type": "markdown",
   "id": "a652fbc7",
   "metadata": {},
   "source": [
    "# Fit_intercept = false, copy_x = false, positive = true"
   ]
  },
  {
   "cell_type": "code",
   "execution_count": 14,
   "id": "e0f424f3",
   "metadata": {
    "ExecuteTime": {
     "end_time": "2023-09-13T05:27:04.252531Z",
     "start_time": "2023-09-13T05:15:52.422736Z"
    }
   },
   "outputs": [
    {
     "name": "stderr",
     "output_type": "stream",
     "text": [
      "C:\\Dev\\Python311\\Lib\\site-packages\\sklearn\\ensemble\\_forest.py:413: FutureWarning: `max_features='auto'` has been deprecated in 1.1 and will be removed in 1.3. To keep the past behaviour, explicitly set `max_features=1.0` or remove this parameter as it is also the default value for RandomForestRegressors and ExtraTreesRegressors.\n",
      "  warn(\n"
     ]
    }
   ],
   "source": [
    "clr_ranfor_7 = RandomForestRegressor(n_estimators=200, criterion='squared_error', max_depth=30, min_samples_split=2, min_samples_leaf=1, min_weight_fraction_leaf=0.0, max_features='auto',\n",
    "                                     max_leaf_nodes=None, min_impurity_decrease=0.0, bootstrap=True, oob_score=False, n_jobs=-1, random_state=43, verbose=0, warm_start=False, ccp_alpha=0.0, max_samples=None)\n",
    "clr_ranfor_7.fit(X_train, y_train)\n",
    "\n",
    "# Calcular las predicciones del modelo para los datos de entrenamiento y prueba\n",
    "y_train_pred_7 = clr_ranfor_7.predict(X_train)\n",
    "y_test_pred_7 = clr_ranfor_7.predict(X_test)"
   ]
  },
  {
   "cell_type": "code",
   "execution_count": 15,
   "id": "6a6fe145",
   "metadata": {
    "ExecuteTime": {
     "end_time": "2023-09-13T05:27:04.260807Z",
     "start_time": "2023-09-13T05:27:04.253540Z"
    },
    "scrolled": true
   },
   "outputs": [
    {
     "name": "stdout",
     "output_type": "stream",
     "text": [
      "Train MSE: 1982.1857504456555, Test MSE: 2384.042798076388\n",
      "Train RMSE: 44.52174469229227, Test RMSE: 48.826660730346774\n",
      "Train MAE: 29.92760936498795, Test MAE: 32.81402988712309\n",
      "Train R^2: 0.6150574455454829, Test R^2: 0.535894140995127\n",
      "Train RSE: nan, Test RSE: nan\n"
     ]
    },
    {
     "name": "stderr",
     "output_type": "stream",
     "text": [
      "C:\\Users\\Agus\\AppData\\Local\\Temp\\ipykernel_20724\\1542690752.py:24: RuntimeWarning: invalid value encountered in sqrt\n",
      "  rse_train_7 = np.sqrt((1 / (n_train - p_train - 1)) * mse_train_7)\n",
      "C:\\Users\\Agus\\AppData\\Local\\Temp\\ipykernel_20724\\1542690752.py:28: RuntimeWarning: invalid value encountered in sqrt\n",
      "  rse_test_7 = np.sqrt((1 / (n_test - p_test - 1)) * mse_test_7)\n"
     ]
    }
   ],
   "source": [
    "# Calcular MSE para los datos de entrenamiento y prueba\n",
    "mse_train_7 = mean_squared_error(y_train, y_train_pred_7)\n",
    "mse_test_7 = mean_squared_error(y_test, y_test_pred_7)\n",
    "\n",
    "# Calcular RMSE para los datos de entrenamiento y prueba\n",
    "rmse_train_7 = np.sqrt(mse_train_7)\n",
    "rmse_test_7 = np.sqrt(mse_test_7)\n",
    "\n",
    "# Calcular MAE para los datos de entrenamiento y prueba\n",
    "mae_train_7 = mean_absolute_error(y_train, y_train_pred_7)\n",
    "mae_test_7 = mean_absolute_error(y_test, y_test_pred_7)\n",
    "\n",
    "print(f'Train MSE: {mse_train_7}, Test MSE: {mse_test_7}')\n",
    "print(f'Train RMSE: {rmse_train_7}, Test RMSE: {rmse_test_7}')\n",
    "print(f'Train MAE: {mae_train_7}, Test MAE: {mae_test_7}')\n",
    "\n",
    "# Calcular R^2 para los datos de entrenamiento y prueba\n",
    "r2_train_7 = r2_score(y_train, y_train_pred_7)\n",
    "r2_test_7 = r2_score(y_test, y_test_pred_7)\n",
    "\n",
    "# Calcular RSE para los datos de entrenamiento y prueba\n",
    "n_train = len(y_train)\n",
    "p_train = X_train.shape[1]  # número de características\n",
    "rse_train_7 = np.sqrt((1 / (n_train - p_train - 1)) * mse_train_7)\n",
    "\n",
    "n_test = len(y_test)\n",
    "p_test = X_test.shape[1]  # número de características\n",
    "rse_test_7 = np.sqrt((1 / (n_test - p_test - 1)) * mse_test_7)\n",
    "\n",
    "print(f'Train R^2: {r2_train_7}, Test R^2: {r2_test_7}')\n",
    "print(f'Train RSE: {rse_train_7}, Test RSE: {rse_test_7}')"
   ]
  },
  {
   "cell_type": "markdown",
   "id": "89a4426b",
   "metadata": {},
   "source": [
    "# Grid Search"
   ]
  },
  {
   "cell_type": "code",
   "execution_count": null,
   "id": "c34085a3",
   "metadata": {
    "ExecuteTime": {
     "start_time": "2023-09-13T07:13:34.410Z"
    }
   },
   "outputs": [],
   "source": [
    "# Definir los parámetros para la búsqueda en cuadrícula\n",
    "param_grid = {\n",
    "    'n_estimators': [50, 100, 200],\n",
    "    'max_depth': [None, 10, 20, 30],\n",
    "    'min_samples_split': [2, 5, 10],\n",
    "    'min_samples_leaf': [1, 2, 4],\n",
    "    'bootstrap': [True, False]\n",
    "}\n",
    "\n",
    "# Crear una instancia del modelo\n",
    "rf = RandomForestRegressor(random_state=43)\n",
    "\n",
    "# Crear la búsqueda en cuadrícula\n",
    "grid_search = GridSearchCV(\n",
    "    estimator=rf, param_grid=param_grid, cv=3, n_jobs=-1)\n",
    "\n",
    "# Ajustar la búsqueda en cuadrícula a los datos\n",
    "grid_search.fit(X_train, y_train)\n",
    "\n",
    "# Imprimir los mejores parámetros\n",
    "print('Mejores parámetros: ', grid_search.best_params_)\n",
    "\n",
    "# Predecir los valores para los datos de prueba utilizando el mejor modelo\n",
    "y_pred_gs = grid_search.predict(X_test)"
   ]
  },
  {
   "cell_type": "code",
   "execution_count": null,
   "id": "b41d5fe0",
   "metadata": {},
   "outputs": [],
   "source": []
  }
 ],
 "metadata": {
  "kernelspec": {
   "display_name": "Python 3 (ipykernel)",
   "language": "python",
   "name": "python3"
  },
  "language_info": {
   "codemirror_mode": {
    "name": "ipython",
    "version": 3
   },
   "file_extension": ".py",
   "mimetype": "text/x-python",
   "name": "python",
   "nbconvert_exporter": "python",
   "pygments_lexer": "ipython3",
   "version": "3.11.1"
  },
  "toc": {
   "base_numbering": 1,
   "nav_menu": {},
   "number_sections": false,
   "sideBar": true,
   "skip_h1_title": false,
   "title_cell": "Table of Contents",
   "title_sidebar": "Contents",
   "toc_cell": true,
   "toc_position": {},
   "toc_section_display": true,
   "toc_window_display": true
  },
  "varInspector": {
   "cols": {
    "lenName": 16,
    "lenType": 16,
    "lenVar": 40
   },
   "kernels_config": {
    "python": {
     "delete_cmd_postfix": "",
     "delete_cmd_prefix": "del ",
     "library": "var_list.py",
     "varRefreshCmd": "print(var_dic_list())"
    },
    "r": {
     "delete_cmd_postfix": ") ",
     "delete_cmd_prefix": "rm(",
     "library": "var_list.r",
     "varRefreshCmd": "cat(var_dic_list()) "
    }
   },
   "types_to_exclude": [
    "module",
    "function",
    "builtin_function_or_method",
    "instance",
    "_Feature"
   ],
   "window_display": false
  }
 },
 "nbformat": 4,
 "nbformat_minor": 5
}
