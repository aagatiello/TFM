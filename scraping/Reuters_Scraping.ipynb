{
 "cells": [
  {
   "cell_type": "markdown",
   "id": "2b72750c",
   "metadata": {
    "toc": true
   },
   "source": [
    "<h1>Table of Contents<span class=\"tocSkip\"></span></h1>\n",
    "<div class=\"toc\"><ul class=\"toc-item\"><li><span><a href=\"#Importar-librerias\" data-toc-modified-id=\"Importar-librerias-1\">Importar librerias</a></span></li><li><span><a href=\"#Extraccion-de-datos-mediate-Selenium-y-BeautifulSoup\" data-toc-modified-id=\"Extraccion-de-datos-mediate-Selenium-y-BeautifulSoup-2\">Extraccion de datos mediate Selenium y BeautifulSoup</a></span></li><li><span><a href=\"#Guardar-df-como-archivo-csv\" data-toc-modified-id=\"Guardar-df-como-archivo-csv-3\">Guardar df como archivo csv</a></span></li></ul></div>"
   ]
  },
  {
   "cell_type": "markdown",
   "id": "378e5ebe",
   "metadata": {
    "ExecuteTime": {
     "end_time": "2023-09-03T22:58:22.730583Z",
     "start_time": "2023-09-03T22:58:22.726728Z"
    }
   },
   "source": [
    "**<center><font size = \"6\"> Scraping Reuters Data <center>**\n",
    "***\n",
    "Web: https://www.reuters.com/site-search/?query=Tesla+Inc&offset=0"
   ]
  },
  {
   "cell_type": "markdown",
   "id": "ad6f2865",
   "metadata": {},
   "source": [
    "### Importar librerias"
   ]
  },
  {
   "cell_type": "code",
   "execution_count": 1,
   "id": "c053a4fc",
   "metadata": {
    "ExecuteTime": {
     "end_time": "2023-09-10T22:13:30.269508Z",
     "start_time": "2023-09-10T22:13:29.850436Z"
    }
   },
   "outputs": [],
   "source": [
    "from bs4 import BeautifulSoup\n",
    "from selenium import webdriver\n",
    "from selenium.webdriver.common.by import By\n",
    "from selenium.webdriver.common.keys import Keys\n",
    "from selenium.webdriver.support import expected_conditions as EC\n",
    "from selenium.webdriver.support.ui import WebDriverWait\n",
    "import pandas as pd"
   ]
  },
  {
   "cell_type": "markdown",
   "id": "501d3828",
   "metadata": {},
   "source": [
    "### Extraccion de datos mediate Selenium y BeautifulSoup"
   ]
  },
  {
   "cell_type": "code",
   "execution_count": 2,
   "id": "bdfd33fa",
   "metadata": {
    "ExecuteTime": {
     "end_time": "2023-09-10T22:13:30.272860Z",
     "start_time": "2023-09-10T22:13:30.270511Z"
    }
   },
   "outputs": [],
   "source": [
    "# URL de la página de noticias de Tesla en Reuters con paginación\n",
    "base_url = 'https://www.reuters.com/site-search/?query=Tesla&offset={}'"
   ]
  },
  {
   "cell_type": "code",
   "execution_count": 3,
   "id": "e86dd39c",
   "metadata": {
    "ExecuteTime": {
     "end_time": "2023-09-10T22:18:47.798359Z",
     "start_time": "2023-09-10T22:13:30.274870Z"
    },
    "scrolled": false
   },
   "outputs": [],
   "source": [
    "# Inicializar el controlador de Selenium para Chrome\n",
    "driver = webdriver.Chrome()\n",
    "\n",
    "# Lista para almacenar los datos\n",
    "data_list = []\n",
    "\n",
    "# Recorrer offsets\n",
    "for offset in range(0, 4220, 20):\n",
    "\n",
    "    url = base_url.format(offset)\n",
    "    driver.get(url)\n",
    "\n",
    "    # Espera a que un elemento esté presente en la página\n",
    "    wait = WebDriverWait(driver, 120)\n",
    "    element = wait.until(EC.presence_of_element_located(\n",
    "        (By.CSS_SELECTOR, '[class=\"search-results__item__2oqiX\"]')))\n",
    "\n",
    "    # Contenido de la página una vez que esté completamente cargada\n",
    "    page_source = driver.page_source\n",
    "\n",
    "    # Parsear con BeautifulSoup\n",
    "    soup = BeautifulSoup(page_source, 'html.parser')\n",
    "    sections = soup.find_all(\n",
    "        class_=\"text__text__1FZLe text__inherit-color__3208F text__inherit-font__1Y8w3 text__inherit-size__1DZJi\")\n",
    "    titles = soup.find_all(\n",
    "        class_=\"text__text__1FZLe text__dark-grey__3Ml43 text__inherit-font__1Y8w3 text__inherit-size__1DZJi link__underline_on_hover__2zGL4 media-story-card__heading__eqhp9\")\n",
    "    dates = soup.find_all(\n",
    "        class_=\"text__text__1FZLe text__inherit-color__3208F text__regular__2N1Xr text__extra_small__1Mw6v body__base__22dCE body__extra_small_body__3QTYe media-story-card__time__2i9EK\")\n",
    "\n",
    "    # Lista de diccionarios con los datos extraídos de esta página\n",
    "    page_data = [{'Section': section.get_text(strip=True),\n",
    "                  'Title': title.get_text(strip=True),\n",
    "                  'Date': date.get_text(strip=True)} for section, title, date in zip(sections, titles, dates)]\n",
    "    data_list.extend(page_data)\n",
    "\n",
    "# Cierra el navegador \n",
    "driver.quit()\n",
    "\n",
    "df = pd.DataFrame(data_list)"
   ]
  },
  {
   "cell_type": "code",
   "execution_count": 4,
   "id": "d6ca286a",
   "metadata": {
    "ExecuteTime": {
     "end_time": "2023-09-10T22:18:47.808603Z",
     "start_time": "2023-09-10T22:18:47.799367Z"
    },
    "scrolled": true
   },
   "outputs": [
    {
     "data": {
      "text/html": [
       "<div>\n",
       "<style scoped>\n",
       "    .dataframe tbody tr th:only-of-type {\n",
       "        vertical-align: middle;\n",
       "    }\n",
       "\n",
       "    .dataframe tbody tr th {\n",
       "        vertical-align: top;\n",
       "    }\n",
       "\n",
       "    .dataframe thead th {\n",
       "        text-align: right;\n",
       "    }\n",
       "</style>\n",
       "<table border=\"1\" class=\"dataframe\">\n",
       "  <thead>\n",
       "    <tr style=\"text-align: right;\">\n",
       "      <th></th>\n",
       "      <th>Section</th>\n",
       "      <th>Title</th>\n",
       "      <th>Date</th>\n",
       "    </tr>\n",
       "  </thead>\n",
       "  <tbody>\n",
       "    <tr>\n",
       "      <th>0</th>\n",
       "      <td>World at Work</td>\n",
       "      <td>UAW union embraces social media as labor talks...</td>\n",
       "      <td>September 9, 2023</td>\n",
       "    </tr>\n",
       "    <tr>\n",
       "      <th>1</th>\n",
       "      <td>Legal</td>\n",
       "      <td>Elon Musk's X Corp sues California to undo con...</td>\n",
       "      <td>September 9, 2023</td>\n",
       "    </tr>\n",
       "    <tr>\n",
       "      <th>2</th>\n",
       "      <td>Technology</td>\n",
       "      <td>Congress to hold new AI hearings as it works t...</td>\n",
       "      <td>September 8, 2023</td>\n",
       "    </tr>\n",
       "    <tr>\n",
       "      <th>3</th>\n",
       "      <td>Business</td>\n",
       "      <td>China car sales return to growth in August, Te...</td>\n",
       "      <td>September 8, 2023</td>\n",
       "    </tr>\n",
       "    <tr>\n",
       "      <th>4</th>\n",
       "      <td>Insight</td>\n",
       "      <td>Why Native American tribes struggle to tap bil...</td>\n",
       "      <td>September 8, 2023</td>\n",
       "    </tr>\n",
       "    <tr>\n",
       "      <th>...</th>\n",
       "      <td>...</td>\n",
       "      <td>...</td>\n",
       "      <td>...</td>\n",
       "    </tr>\n",
       "    <tr>\n",
       "      <th>3964</th>\n",
       "      <td>Analysis</td>\n",
       "      <td>U.S. stocks surge in recovery; dollar, bond yi...</td>\n",
       "      <td>May 14, 2021</td>\n",
       "    </tr>\n",
       "    <tr>\n",
       "      <th>3965</th>\n",
       "      <td>Business</td>\n",
       "      <td>Wall St extends recovery at end of volatile week</td>\n",
       "      <td>May 14, 2021</td>\n",
       "    </tr>\n",
       "    <tr>\n",
       "      <th>3966</th>\n",
       "      <td>Business</td>\n",
       "      <td>Dollar lower after weak data, as inflation fea...</td>\n",
       "      <td>May 14, 2021</td>\n",
       "    </tr>\n",
       "    <tr>\n",
       "      <th>3967</th>\n",
       "      <td>World</td>\n",
       "      <td>Take Five: Retail, PMIs and a timely tantrum a...</td>\n",
       "      <td>May 14, 2021</td>\n",
       "    </tr>\n",
       "    <tr>\n",
       "      <th>3968</th>\n",
       "      <td>Business</td>\n",
       "      <td>Dollar rally pauses as Fed plays calm hand on ...</td>\n",
       "      <td>May 14, 2021</td>\n",
       "    </tr>\n",
       "  </tbody>\n",
       "</table>\n",
       "<p>3969 rows × 3 columns</p>\n",
       "</div>"
      ],
      "text/plain": [
       "            Section                                              Title  \\\n",
       "0     World at Work  UAW union embraces social media as labor talks...   \n",
       "1             Legal  Elon Musk's X Corp sues California to undo con...   \n",
       "2        Technology  Congress to hold new AI hearings as it works t...   \n",
       "3          Business  China car sales return to growth in August, Te...   \n",
       "4           Insight  Why Native American tribes struggle to tap bil...   \n",
       "...             ...                                                ...   \n",
       "3964       Analysis  U.S. stocks surge in recovery; dollar, bond yi...   \n",
       "3965       Business   Wall St extends recovery at end of volatile week   \n",
       "3966       Business  Dollar lower after weak data, as inflation fea...   \n",
       "3967          World  Take Five: Retail, PMIs and a timely tantrum a...   \n",
       "3968       Business  Dollar rally pauses as Fed plays calm hand on ...   \n",
       "\n",
       "                   Date  \n",
       "0     September 9, 2023  \n",
       "1     September 9, 2023  \n",
       "2     September 8, 2023  \n",
       "3     September 8, 2023  \n",
       "4     September 8, 2023  \n",
       "...                 ...  \n",
       "3964       May 14, 2021  \n",
       "3965       May 14, 2021  \n",
       "3966       May 14, 2021  \n",
       "3967       May 14, 2021  \n",
       "3968       May 14, 2021  \n",
       "\n",
       "[3969 rows x 3 columns]"
      ]
     },
     "execution_count": 4,
     "metadata": {},
     "output_type": "execute_result"
    }
   ],
   "source": [
    "df"
   ]
  },
  {
   "cell_type": "markdown",
   "id": "f253f46c",
   "metadata": {},
   "source": [
    "### Guardar df como archivo csv"
   ]
  },
  {
   "cell_type": "code",
   "execution_count": 5,
   "id": "5de9904d",
   "metadata": {
    "ExecuteTime": {
     "end_time": "2023-09-10T22:18:47.826813Z",
     "start_time": "2023-09-10T22:18:47.809613Z"
    }
   },
   "outputs": [],
   "source": [
    "nombre_archivo = \"Reuters_Scraping.csv\"\n",
    "df.to_csv(nombre_archivo, index=False)"
   ]
  }
 ],
 "metadata": {
  "kernelspec": {
   "display_name": "Python 3 (ipykernel)",
   "language": "python",
   "name": "python3"
  },
  "language_info": {
   "codemirror_mode": {
    "name": "ipython",
    "version": 3
   },
   "file_extension": ".py",
   "mimetype": "text/x-python",
   "name": "python",
   "nbconvert_exporter": "python",
   "pygments_lexer": "ipython3",
   "version": "3.11.1"
  },
  "toc": {
   "base_numbering": 1,
   "nav_menu": {},
   "number_sections": false,
   "sideBar": true,
   "skip_h1_title": false,
   "title_cell": "Table of Contents",
   "title_sidebar": "Contents",
   "toc_cell": true,
   "toc_position": {},
   "toc_section_display": true,
   "toc_window_display": false
  },
  "varInspector": {
   "cols": {
    "lenName": 16,
    "lenType": 16,
    "lenVar": 40
   },
   "kernels_config": {
    "python": {
     "delete_cmd_postfix": "",
     "delete_cmd_prefix": "del ",
     "library": "var_list.py",
     "varRefreshCmd": "print(var_dic_list())"
    },
    "r": {
     "delete_cmd_postfix": ") ",
     "delete_cmd_prefix": "rm(",
     "library": "var_list.r",
     "varRefreshCmd": "cat(var_dic_list()) "
    }
   },
   "types_to_exclude": [
    "module",
    "function",
    "builtin_function_or_method",
    "instance",
    "_Feature"
   ],
   "window_display": false
  }
 },
 "nbformat": 4,
 "nbformat_minor": 5
}
